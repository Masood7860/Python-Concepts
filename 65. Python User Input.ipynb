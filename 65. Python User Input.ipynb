{
 "cells": [
  {
   "cell_type": "markdown",
   "id": "d4e4166e",
   "metadata": {},
   "source": [
    "# User Input"
   ]
  },
  {
   "cell_type": "raw",
   "id": "caa7f864",
   "metadata": {},
   "source": [
    "Python allows for user input."
   ]
  },
  {
   "cell_type": "raw",
   "id": "c88c09cc",
   "metadata": {},
   "source": [
    "That means we are able to ask the user for input."
   ]
  },
  {
   "cell_type": "raw",
   "id": "ef9569cc",
   "metadata": {},
   "source": [
    "The method is a bit different in Python 3.6 than Python 2.7."
   ]
  },
  {
   "cell_type": "raw",
   "id": "70715d43",
   "metadata": {},
   "source": [
    "Python 3.6 uses the input() method. "
   ]
  },
  {
   "cell_type": "raw",
   "id": "4af25b57",
   "metadata": {},
   "source": [
    "Python 2.7 uses the raw_input() method. "
   ]
  },
  {
   "cell_type": "raw",
   "id": "931fd942",
   "metadata": {},
   "source": [
    "The following example asks for the username, and when you entered the username, it gets printed on the screen:"
   ]
  },
  {
   "cell_type": "code",
   "execution_count": 1,
   "id": "1017233f",
   "metadata": {},
   "outputs": [
    {
     "name": "stdout",
     "output_type": "stream",
     "text": [
      "Enter username:Masood\n",
      "Username is: Masood\n"
     ]
    }
   ],
   "source": [
    "# Python 3.6\n",
    "\n",
    "username = input(\"Enter username:\")\n",
    "print(\"Username is: \" + username)"
   ]
  },
  {
   "cell_type": "code",
   "execution_count": 2,
   "id": "5d2396f3",
   "metadata": {},
   "outputs": [
    {
     "ename": "NameError",
     "evalue": "name 'raw_input' is not defined",
     "output_type": "error",
     "traceback": [
      "\u001b[1;31m---------------------------------------------------------------------------\u001b[0m",
      "\u001b[1;31mNameError\u001b[0m                                 Traceback (most recent call last)",
      "\u001b[1;32m<ipython-input-2-28144ea66f4b>\u001b[0m in \u001b[0;36m<module>\u001b[1;34m\u001b[0m\n\u001b[0;32m      1\u001b[0m \u001b[1;31m# Python 2.7\u001b[0m\u001b[1;33m\u001b[0m\u001b[1;33m\u001b[0m\u001b[1;33m\u001b[0m\u001b[0m\n\u001b[1;32m----> 2\u001b[1;33m \u001b[0musername\u001b[0m \u001b[1;33m=\u001b[0m \u001b[0mraw_input\u001b[0m\u001b[1;33m(\u001b[0m\u001b[1;34m\"Enter username:\"\u001b[0m\u001b[1;33m)\u001b[0m\u001b[1;33m\u001b[0m\u001b[1;33m\u001b[0m\u001b[0m\n\u001b[0m\u001b[0;32m      3\u001b[0m \u001b[0mprint\u001b[0m\u001b[1;33m(\u001b[0m\u001b[1;34m\"Username is: \"\u001b[0m \u001b[1;33m+\u001b[0m \u001b[0musername\u001b[0m\u001b[1;33m)\u001b[0m\u001b[1;33m\u001b[0m\u001b[1;33m\u001b[0m\u001b[0m\n",
      "\u001b[1;31mNameError\u001b[0m: name 'raw_input' is not defined"
     ]
    }
   ],
   "source": [
    "# Python 2.7\n",
    "username = raw_input(\"Enter username:\")\n",
    "print(\"Username is: \" + username)"
   ]
  },
  {
   "cell_type": "raw",
   "id": "6385466d",
   "metadata": {},
   "source": [
    "Python stops executing when it comes to the input() function, and continues when the user has given some inpu"
   ]
  }
 ],
 "metadata": {
  "kernelspec": {
   "display_name": "Python 3",
   "language": "python",
   "name": "python3"
  },
  "language_info": {
   "codemirror_mode": {
    "name": "ipython",
    "version": 3
   },
   "file_extension": ".py",
   "mimetype": "text/x-python",
   "name": "python",
   "nbconvert_exporter": "python",
   "pygments_lexer": "ipython3",
   "version": "3.8.8"
  }
 },
 "nbformat": 4,
 "nbformat_minor": 5
}
