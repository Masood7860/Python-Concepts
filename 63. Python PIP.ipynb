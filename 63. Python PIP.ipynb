{
 "cells": [
  {
   "cell_type": "markdown",
   "id": "2b64bce9",
   "metadata": {},
   "source": [
    "# Python PIP"
   ]
  },
  {
   "cell_type": "raw",
   "id": "852fdef1",
   "metadata": {},
   "source": [
    "What is PIP?"
   ]
  },
  {
   "cell_type": "raw",
   "id": "6424fe20",
   "metadata": {},
   "source": [
    "PIP is a package manager for Python packages, or modules if you like."
   ]
  },
  {
   "cell_type": "raw",
   "id": "a81f6d1f",
   "metadata": {},
   "source": [
    "Note: If you have Python version 3.4 or later, PIP is included by default."
   ]
  },
  {
   "cell_type": "markdown",
   "id": "051686ab",
   "metadata": {},
   "source": [
    "# What is a Package?"
   ]
  },
  {
   "cell_type": "raw",
   "id": "6d189125",
   "metadata": {},
   "source": [
    "A package contains all the files you need for a module."
   ]
  },
  {
   "cell_type": "raw",
   "id": "4dd534e3",
   "metadata": {},
   "source": [
    "Modules are Python code libraries you can include in your project."
   ]
  },
  {
   "cell_type": "markdown",
   "id": "ffd25185",
   "metadata": {},
   "source": [
    "# Check if PIP is Installed"
   ]
  },
  {
   "cell_type": "raw",
   "id": "80a3f771",
   "metadata": {},
   "source": [
    "Navigate your command line to the location of Python's script directory, and type the following:"
   ]
  },
  {
   "cell_type": "raw",
   "id": "abdce078",
   "metadata": {},
   "source": [
    "# Check PIP version:\n",
    "\n",
    "C:\\Users\\Your Name\\AppData\\Local\\Programs\\Python\\Python36-32\\Scripts>pip --version "
   ]
  },
  {
   "cell_type": "markdown",
   "id": "b3b94fec",
   "metadata": {},
   "source": [
    "# Install PIP"
   ]
  },
  {
   "cell_type": "raw",
   "id": "e7f35445",
   "metadata": {},
   "source": [
    "If you do not have PIP installed, you can download and install it from this page: https://pypi.org/project/pip/"
   ]
  },
  {
   "cell_type": "markdown",
   "id": "dc0c36c9",
   "metadata": {},
   "source": [
    "# Download a Package"
   ]
  },
  {
   "cell_type": "raw",
   "id": "da757f98",
   "metadata": {},
   "source": [
    "Downloading a package is very easy."
   ]
  },
  {
   "cell_type": "raw",
   "id": "a0ef436a",
   "metadata": {},
   "source": [
    "Open the command line interface and tell PIP to download the package you want."
   ]
  },
  {
   "cell_type": "raw",
   "id": "843963e7",
   "metadata": {},
   "source": [
    "Navigate your command line to the location of Python's script directory, and type the following:"
   ]
  },
  {
   "cell_type": "raw",
   "id": "529b3012",
   "metadata": {},
   "source": [
    "# Download a package named \"camelcase\":\n",
    "\n",
    "C:\\Users\\Your Name\\AppData\\Local\\Programs\\Python\\Python36-32\\Scripts>pip install camelcase"
   ]
  },
  {
   "cell_type": "raw",
   "id": "e432295e",
   "metadata": {},
   "source": [
    "Now you have downloaded and installed your first package!"
   ]
  },
  {
   "cell_type": "markdown",
   "id": "40cc141b",
   "metadata": {},
   "source": [
    "# Using a Package"
   ]
  },
  {
   "cell_type": "raw",
   "id": "e7195673",
   "metadata": {},
   "source": [
    "Once the package is installed, it is ready to use."
   ]
  },
  {
   "cell_type": "raw",
   "id": "b76ca9a3",
   "metadata": {},
   "source": [
    "Import the \"camelcase\" package into your project."
   ]
  },
  {
   "cell_type": "code",
   "execution_count": 1,
   "id": "329a1c85",
   "metadata": {},
   "outputs": [
    {
     "name": "stdout",
     "output_type": "stream",
     "text": [
      "Requirement already satisfied: camelcase in c:\\users\\dell\\anaconda3\\lib\\site-packages (0.2)\n",
      "Note: you may need to restart the kernel to use updated packages.\n"
     ]
    }
   ],
   "source": [
    "pip install camelcase"
   ]
  },
  {
   "cell_type": "code",
   "execution_count": 2,
   "id": "9899410c",
   "metadata": {},
   "outputs": [
    {
     "name": "stdout",
     "output_type": "stream",
     "text": [
      "Hello World\n"
     ]
    }
   ],
   "source": [
    "# Import and use \"camelcase\":\n",
    "\n",
    "import camelcase\n",
    "\n",
    "c = camelcase.CamelCase()\n",
    "\n",
    "txt = \"hello world\"\n",
    "\n",
    "print(c.hump(txt)) "
   ]
  },
  {
   "cell_type": "markdown",
   "id": "b56983d9",
   "metadata": {},
   "source": [
    "# Find Packages"
   ]
  },
  {
   "cell_type": "raw",
   "id": "e2e0304b",
   "metadata": {},
   "source": [
    "Find more packages at https://pypi.org/."
   ]
  },
  {
   "cell_type": "markdown",
   "id": "59bdc3c2",
   "metadata": {},
   "source": [
    "# Remove a Package"
   ]
  },
  {
   "cell_type": "raw",
   "id": "4a1635e3",
   "metadata": {},
   "source": [
    "Use the uninstall command to remove a package:"
   ]
  },
  {
   "cell_type": "raw",
   "id": "5c1782f1",
   "metadata": {},
   "source": [
    "# Uninstall the package named \"camelcase\":\n",
    "\n",
    "C:\\Users\\Your Name\\AppData\\Local\\Programs\\Python\\Python36-32\\Scripts>pip uninstall camelcase"
   ]
  },
  {
   "cell_type": "raw",
   "id": "26d00c1e",
   "metadata": {},
   "source": [
    "The PIP Package Manager will ask you to confirm that you want to remove the camelcase package:"
   ]
  },
  {
   "cell_type": "raw",
   "id": "e5cd00ec",
   "metadata": {},
   "source": [
    "Uninstalling camelcase-02.1:\n",
    "  Would remove:\n",
    "    c:\\users\\Your Name\\appdata\\local\\programs\\python\\python36-32\\lib\\site-packages\\camecase-0.2-py3.6.egg-info\n",
    "    c:\\users\\Your Name\\appdata\\local\\programs\\python\\python36-32\\lib\\site-packages\\camecase\\*\n",
    "Proceed (y/n)?"
   ]
  },
  {
   "cell_type": "raw",
   "id": "895333a2",
   "metadata": {},
   "source": [
    "Press y and the package will be removed."
   ]
  },
  {
   "cell_type": "markdown",
   "id": "f998e310",
   "metadata": {},
   "source": [
    "# List Packages"
   ]
  },
  {
   "cell_type": "raw",
   "id": "cbea5295",
   "metadata": {},
   "source": [
    "Use the list command to list all the packages installed on your system:"
   ]
  },
  {
   "cell_type": "code",
   "execution_count": null,
   "id": "5cf2a475",
   "metadata": {},
   "outputs": [],
   "source": [
    "# List installed packages:\n",
    "\n",
    "C:\\Users\\Your Name\\AppData\\Local\\Programs\\Python\\Python36-32\\Scripts>pip list"
   ]
  }
 ],
 "metadata": {
  "kernelspec": {
   "display_name": "Python 3",
   "language": "python",
   "name": "python3"
  },
  "language_info": {
   "codemirror_mode": {
    "name": "ipython",
    "version": 3
   },
   "file_extension": ".py",
   "mimetype": "text/x-python",
   "name": "python",
   "nbconvert_exporter": "python",
   "pygments_lexer": "ipython3",
   "version": "3.8.8"
  }
 },
 "nbformat": 4,
 "nbformat_minor": 5
}
