{
 "cells": [
  {
   "cell_type": "markdown",
   "id": "fe6fb616",
   "metadata": {},
   "source": [
    "# Join Two Sets"
   ]
  },
  {
   "cell_type": "raw",
   "id": "bfbbcc52",
   "metadata": {},
   "source": [
    "There are several ways to join two or more sets in Python.\n",
    "\n",
    "You can use the union() method that returns a new set containing all items from both sets, or the update() method that inserts all the items from one set into another:"
   ]
  },
  {
   "cell_type": "markdown",
   "id": "a073db38",
   "metadata": {},
   "source": [
    "# Union Method"
   ]
  },
  {
   "cell_type": "code",
   "execution_count": null,
   "id": "e117b4ff",
   "metadata": {},
   "outputs": [],
   "source": [
    "The union() method returns a new set with all items from both sets:"
   ]
  }
 ],
 "metadata": {
  "kernelspec": {
   "display_name": "Python 3",
   "language": "python",
   "name": "python3"
  },
  "language_info": {
   "codemirror_mode": {
    "name": "ipython",
    "version": 3
   },
   "file_extension": ".py",
   "mimetype": "text/x-python",
   "name": "python",
   "nbconvert_exporter": "python",
   "pygments_lexer": "ipython3",
   "version": "3.8.8"
  }
 },
 "nbformat": 4,
 "nbformat_minor": 5
}
