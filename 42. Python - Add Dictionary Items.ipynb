{
 "cells": [
  {
   "cell_type": "markdown",
   "id": "3d9f742a",
   "metadata": {},
   "source": [
    "# Adding Items"
   ]
  },
  {
   "cell_type": "raw",
   "id": "82c67580",
   "metadata": {},
   "source": [
    "Adding an item to the dictionary is done by using a new index key and assigning a value to it:"
   ]
  },
  {
   "cell_type": "code",
   "execution_count": 1,
   "id": "c375faa6",
   "metadata": {},
   "outputs": [
    {
     "name": "stdout",
     "output_type": "stream",
     "text": [
      "{'brand': 'Ford', 'model': 'Mustang', 'year': 1964, 'color': 'red'}\n"
     ]
    }
   ],
   "source": [
    "# Example\n",
    "\n",
    "thisdict =\t{\n",
    "  \"brand\": \"Ford\",\n",
    "  \"model\": \"Mustang\",\n",
    "  \"year\": 1964\n",
    "}\n",
    "thisdict[\"color\"] = \"red\"\n",
    "\n",
    "print(thisdict)"
   ]
  },
  {
   "cell_type": "markdown",
   "id": "fbfa9368",
   "metadata": {},
   "source": [
    "# Update Dictionary"
   ]
  },
  {
   "cell_type": "raw",
   "id": "b5d40aeb",
   "metadata": {},
   "source": [
    "The update() method will update the dictionary with the items from a given argument. If the item does not exist, the item will be added.\n",
    "\n",
    "The argument must be a dictionary, or an iterable object with key:value pairs."
   ]
  },
  {
   "cell_type": "code",
   "execution_count": 2,
   "id": "f26f71cf",
   "metadata": {},
   "outputs": [
    {
     "name": "stdout",
     "output_type": "stream",
     "text": [
      "{'brand': 'Ford', 'model': 'Mustang', 'year': 1964, 'color': 'red'}\n"
     ]
    }
   ],
   "source": [
    "# Example\n",
    "\n",
    "# Add a color item to the dictionary by using the update() method:\n",
    "\n",
    "thisdict =\t{\n",
    "  \"brand\": \"Ford\",\n",
    "  \"model\": \"Mustang\",\n",
    "  \"year\": 1964\n",
    "}\n",
    "thisdict.update({\"color\": \"red\"}) \n",
    "\n",
    "print(thisdict)"
   ]
  }
 ],
 "metadata": {
  "kernelspec": {
   "display_name": "Python 3",
   "language": "python",
   "name": "python3"
  },
  "language_info": {
   "codemirror_mode": {
    "name": "ipython",
    "version": 3
   },
   "file_extension": ".py",
   "mimetype": "text/x-python",
   "name": "python",
   "nbconvert_exporter": "python",
   "pygments_lexer": "ipython3",
   "version": "3.8.8"
  }
 },
 "nbformat": 4,
 "nbformat_minor": 5
}
