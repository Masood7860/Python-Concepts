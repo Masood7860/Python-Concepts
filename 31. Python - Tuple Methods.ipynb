{
 "cells": [
  {
   "cell_type": "markdown",
   "id": "248de88c",
   "metadata": {},
   "source": [
    "# Tuple Methods"
   ]
  },
  {
   "cell_type": "raw",
   "id": "1874fa50",
   "metadata": {},
   "source": [
    "Python has two built-in methods that you can use on tuples."
   ]
  },
  {
   "cell_type": "raw",
   "id": "d57ae643",
   "metadata": {},
   "source": [
    "Method\tDescription\n",
    "count()\tReturns the number of times a specified value occurs in a tuple\n",
    "index()\tSearches the tuple for a specified value and returns the position of where it was found"
   ]
  }
 ],
 "metadata": {
  "kernelspec": {
   "display_name": "Python 3",
   "language": "python",
   "name": "python3"
  },
  "language_info": {
   "codemirror_mode": {
    "name": "ipython",
    "version": 3
   },
   "file_extension": ".py",
   "mimetype": "text/x-python",
   "name": "python",
   "nbconvert_exporter": "python",
   "pygments_lexer": "ipython3",
   "version": "3.8.8"
  }
 },
 "nbformat": 4,
 "nbformat_minor": 5
}
