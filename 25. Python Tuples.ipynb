{
 "cells": [
  {
   "cell_type": "code",
   "execution_count": 1,
   "id": "e7a2933c",
   "metadata": {},
   "outputs": [],
   "source": [
    "mytuple = (\"apple\", \"banana\", \"cherry\")"
   ]
  },
  {
   "cell_type": "markdown",
   "id": "071171f0",
   "metadata": {},
   "source": [
    "# Tuple"
   ]
  },
  {
   "cell_type": "raw",
   "id": "a1abe2a5",
   "metadata": {},
   "source": [
    "Tuples are used to store multiple items in a single variable.\n",
    "\n",
    "Tuple is one of 4 built-in data types in Python used to store collections of data, the other 3 are List, Set, and Dictionary, all with different qualities and usage.\n",
    "\n",
    "A tuple is a collection which is ordered and unchangeable.\n",
    "\n",
    "Tuples are written with round brackets."
   ]
  },
  {
   "cell_type": "code",
   "execution_count": 2,
   "id": "7e2fadfb",
   "metadata": {},
   "outputs": [
    {
     "name": "stdout",
     "output_type": "stream",
     "text": [
      "('apple', 'banana', 'cherry')\n"
     ]
    }
   ],
   "source": [
    "# Example\n",
    "# Create a Tuple:\n",
    "\n",
    "thistuple = (\"apple\", \"banana\", \"cherry\")\n",
    "print(thistuple)"
   ]
  },
  {
   "cell_type": "markdown",
   "id": "9439c732",
   "metadata": {},
   "source": [
    "# Tuple Items"
   ]
  },
  {
   "cell_type": "raw",
   "id": "f2476fb4",
   "metadata": {},
   "source": [
    "Tuple items are ordered, unchangeable, and allow duplicate values.\n",
    "\n",
    "Tuple items are indexed, the first item has index [0], the second item has index [1] etc."
   ]
  },
  {
   "cell_type": "markdown",
   "id": "9d21b783",
   "metadata": {},
   "source": [
    "# Ordered"
   ]
  },
  {
   "cell_type": "raw",
   "id": "57a4aca1",
   "metadata": {},
   "source": [
    "When we say that tuples are ordered, it means that the items have a defined order, and that order will not change."
   ]
  },
  {
   "cell_type": "markdown",
   "id": "75a13999",
   "metadata": {},
   "source": [
    "# Unchangeable"
   ]
  },
  {
   "cell_type": "raw",
   "id": "1f019703",
   "metadata": {},
   "source": [
    "Tuples are unchangeable, meaning that we cannot change, add or remove items after the tuple has been created."
   ]
  },
  {
   "cell_type": "markdown",
   "id": "bf35bb0e",
   "metadata": {},
   "source": [
    "# Allow Duplicates"
   ]
  },
  {
   "cell_type": "raw",
   "id": "0b877526",
   "metadata": {},
   "source": [
    "Since tuples are indexed, they can have items with the same value:"
   ]
  },
  {
   "cell_type": "code",
   "execution_count": 3,
   "id": "93ca8a3e",
   "metadata": {},
   "outputs": [
    {
     "name": "stdout",
     "output_type": "stream",
     "text": [
      "('apple', 'banana', 'cherry', 'apple', 'cherry')\n"
     ]
    }
   ],
   "source": [
    "# Example\n",
    "# Tuples allow duplicate values:\n",
    "\n",
    "thistuple = (\"apple\", \"banana\", \"cherry\", \"apple\", \"cherry\")\n",
    "print(thistuple)"
   ]
  },
  {
   "cell_type": "markdown",
   "id": "7050b4c0",
   "metadata": {},
   "source": [
    "# Tuple Length"
   ]
  },
  {
   "cell_type": "raw",
   "id": "cbed7881",
   "metadata": {},
   "source": [
    "To determine how many items a tuple has, use the len() function:"
   ]
  },
  {
   "cell_type": "code",
   "execution_count": 4,
   "id": "44d61d93",
   "metadata": {},
   "outputs": [
    {
     "name": "stdout",
     "output_type": "stream",
     "text": [
      "3\n"
     ]
    }
   ],
   "source": [
    "# Example\n",
    "# Print the number of items in the tuple:\n",
    "\n",
    "thistuple = (\"apple\", \"banana\", \"cherry\")\n",
    "print(len(thistuple))"
   ]
  },
  {
   "cell_type": "markdown",
   "id": "08f9fcbd",
   "metadata": {},
   "source": [
    "# Create Tuple With One Item"
   ]
  },
  {
   "cell_type": "raw",
   "id": "d14e8eb6",
   "metadata": {},
   "source": [
    "To create a tuple with only one item, you have to add a comma after the item, otherwise Python will not recognize it as a tuple."
   ]
  },
  {
   "cell_type": "code",
   "execution_count": 5,
   "id": "37b5484b",
   "metadata": {},
   "outputs": [
    {
     "name": "stdout",
     "output_type": "stream",
     "text": [
      "<class 'tuple'>\n",
      "<class 'str'>\n"
     ]
    }
   ],
   "source": [
    "# Example\n",
    "# One item tuple, remember the comma:\n",
    "\n",
    "thistuple = (\"apple\",)\n",
    "print(type(thistuple))\n",
    "\n",
    "#NOT a tuple\n",
    "thistuple = (\"apple\")\n",
    "print(type(thistuple))"
   ]
  },
  {
   "cell_type": "markdown",
   "id": "d4438fc4",
   "metadata": {},
   "source": [
    "# Tuple Items - Data Types"
   ]
  },
  {
   "cell_type": "raw",
   "id": "2aa9caa2",
   "metadata": {},
   "source": [
    "Tuple items can be of any data type:"
   ]
  },
  {
   "cell_type": "code",
   "execution_count": 6,
   "id": "6e13695d",
   "metadata": {},
   "outputs": [
    {
     "name": "stdout",
     "output_type": "stream",
     "text": [
      "('apple', 'banana', 'cherry')\n",
      "(1, 5, 7, 9, 3)\n",
      "(True, False, False)\n"
     ]
    }
   ],
   "source": [
    "# Example\n",
    "# String, int and boolean data types:\n",
    "\n",
    "tuple1 = (\"apple\", \"banana\", \"cherry\")\n",
    "tuple2 = (1, 5, 7, 9, 3)\n",
    "tuple3 = (True, False, False)\n",
    "\n",
    "print(tuple1)\n",
    "print(tuple2)\n",
    "print(tuple3)"
   ]
  },
  {
   "cell_type": "raw",
   "id": "26676620",
   "metadata": {},
   "source": [
    "A tuple can contain different data types:"
   ]
  },
  {
   "cell_type": "code",
   "execution_count": 7,
   "id": "7e1e65cb",
   "metadata": {},
   "outputs": [
    {
     "name": "stdout",
     "output_type": "stream",
     "text": [
      "('abc', 34, True, 40, 'male')\n"
     ]
    }
   ],
   "source": [
    "# Example\n",
    "# A tuple with strings, integers and boolean values:\n",
    "\n",
    "tuple1 = (\"abc\", 34, True, 40, \"male\")\n",
    "print(tuple1)"
   ]
  },
  {
   "cell_type": "markdown",
   "id": "29479a35",
   "metadata": {},
   "source": [
    "# type()"
   ]
  },
  {
   "cell_type": "raw",
   "id": "4a7bed72",
   "metadata": {},
   "source": [
    "From Python's perspective, tuples are defined as objects with the data type 'tuple':"
   ]
  },
  {
   "cell_type": "raw",
   "id": "76b1e5a5",
   "metadata": {},
   "source": [
    "<class 'tuple'>"
   ]
  },
  {
   "cell_type": "code",
   "execution_count": 8,
   "id": "233b4f4a",
   "metadata": {},
   "outputs": [
    {
     "name": "stdout",
     "output_type": "stream",
     "text": [
      "<class 'tuple'>\n"
     ]
    }
   ],
   "source": [
    "# Example\n",
    "# What is the data type of a tuple?\n",
    "\n",
    "mytuple = (\"apple\", \"banana\", \"cherry\")\n",
    "print(type(mytuple))"
   ]
  },
  {
   "cell_type": "markdown",
   "id": "6d5d7529",
   "metadata": {},
   "source": [
    "# The tuple Constructor()"
   ]
  },
  {
   "cell_type": "raw",
   "id": "c6ac4826",
   "metadata": {},
   "source": [
    "It is also possible to use the tuple() constructor to make a tuple."
   ]
  },
  {
   "cell_type": "code",
   "execution_count": 9,
   "id": "5668cbbd",
   "metadata": {},
   "outputs": [
    {
     "name": "stdout",
     "output_type": "stream",
     "text": [
      "('apple', 'banana', 'cherry')\n"
     ]
    }
   ],
   "source": [
    "# Example\n",
    "# Using the tuple() method to make a tuple:\n",
    "\n",
    "thistuple = tuple((\"apple\", \"banana\", \"cherry\")) # note the double round-brackets\n",
    "print(thistuple)"
   ]
  }
 ],
 "metadata": {
  "kernelspec": {
   "display_name": "Python 3",
   "language": "python",
   "name": "python3"
  },
  "language_info": {
   "codemirror_mode": {
    "name": "ipython",
    "version": 3
   },
   "file_extension": ".py",
   "mimetype": "text/x-python",
   "name": "python",
   "nbconvert_exporter": "python",
   "pygments_lexer": "ipython3",
   "version": "3.8.8"
  }
 },
 "nbformat": 4,
 "nbformat_minor": 5
}
