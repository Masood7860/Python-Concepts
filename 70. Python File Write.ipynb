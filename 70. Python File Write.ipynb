{
 "cells": [
  {
   "cell_type": "markdown",
   "id": "88bd3827",
   "metadata": {},
   "source": [
    "# Python File Write"
   ]
  },
  {
   "cell_type": "markdown",
   "id": "3204a649",
   "metadata": {},
   "source": [
    "# Write to an Existing File"
   ]
  },
  {
   "cell_type": "raw",
   "id": "9267238e",
   "metadata": {},
   "source": [
    "To write to an existing file, you must add a parameter to the open() function:\n",
    "\n",
    "\"a\" - Append - will append to the end of the file\n",
    "\n",
    "\"w\" - Write - will overwrite any existing content"
   ]
  },
  {
   "cell_type": "code",
   "execution_count": 1,
   "id": "44a1422c",
   "metadata": {},
   "outputs": [
    {
     "name": "stdout",
     "output_type": "stream",
     "text": [
      "Now the file has more content!Now the file has more content!Now the file has more content!Now the file has more content!Now the file has more content!\n"
     ]
    }
   ],
   "source": [
    "# Open the file \"demofile2.txt\" and append content to the file:\n",
    "f = open(\"C:\\\\Users\\\\DELL\\\\Desktop\\\\demofile2.txt\", \"a\")\n",
    "f.write(\"Now the file has more content!\")\n",
    "f.close()\n",
    "\n",
    "# open and read the file after the appending:\n",
    "f = open(\"C:\\\\Users\\\\DELL\\\\Desktop\\\\demofile2.txt\", \"r\")\n",
    "print(f.read()) "
   ]
  },
  {
   "cell_type": "code",
   "execution_count": 2,
   "id": "4623956b",
   "metadata": {},
   "outputs": [
    {
     "name": "stdout",
     "output_type": "stream",
     "text": [
      "Woops! I have deleted the content!\n"
     ]
    }
   ],
   "source": [
    "# Open the file \"demofile3.txt\" and overwrite the content:\n",
    "f = open(\"C:\\\\Users\\\\DELL\\\\Desktop\\\\demofile3.txt\", \"w\")\n",
    "f.write(\"Woops! I have deleted the content!\")\n",
    "f.close()\n",
    "\n",
    "#open and read the file after the appending:\n",
    "f = open(\"C:\\\\Users\\\\DELL\\\\Desktop\\\\demofile3.txt\", \"r\")\n",
    "print(f.read()) "
   ]
  },
  {
   "cell_type": "raw",
   "id": "5738fa62",
   "metadata": {},
   "source": [
    "Note: the \"w\" method will overwrite the entire file."
   ]
  },
  {
   "cell_type": "markdown",
   "id": "e5a1bbd3",
   "metadata": {},
   "source": [
    "# Create a New File"
   ]
  },
  {
   "cell_type": "raw",
   "id": "feca732d",
   "metadata": {},
   "source": [
    "To create a new file in Python, use the open() method, with one of the following parameters:\n",
    "\n",
    "\"x\" - Create - will create a file, returns an error if the file exist\n",
    "\n",
    "\"a\" - Append - will create a file if the specified file does not exist\n",
    "\n",
    "\"w\" - Write - will create a file if the specified file does not exist"
   ]
  },
  {
   "cell_type": "code",
   "execution_count": 3,
   "id": "d99a3291",
   "metadata": {},
   "outputs": [
    {
     "ename": "FileExistsError",
     "evalue": "[Errno 17] File exists: 'C:\\\\Users\\\\DELL\\\\Desktop\\\\myfile.txt'",
     "output_type": "error",
     "traceback": [
      "\u001b[1;31m---------------------------------------------------------------------------\u001b[0m",
      "\u001b[1;31mFileExistsError\u001b[0m                           Traceback (most recent call last)",
      "\u001b[1;32m<ipython-input-3-554abe37f36a>\u001b[0m in \u001b[0;36m<module>\u001b[1;34m\u001b[0m\n\u001b[0;32m      1\u001b[0m \u001b[1;31m# Create a file called \"myfile.txt\":\u001b[0m\u001b[1;33m\u001b[0m\u001b[1;33m\u001b[0m\u001b[1;33m\u001b[0m\u001b[0m\n\u001b[0;32m      2\u001b[0m \u001b[1;33m\u001b[0m\u001b[0m\n\u001b[1;32m----> 3\u001b[1;33m \u001b[0mf\u001b[0m \u001b[1;33m=\u001b[0m \u001b[0mopen\u001b[0m\u001b[1;33m(\u001b[0m\u001b[1;34m\"C:\\\\Users\\\\DELL\\\\Desktop\\\\myfile.txt\"\u001b[0m\u001b[1;33m,\u001b[0m \u001b[1;34m\"x\"\u001b[0m\u001b[1;33m)\u001b[0m\u001b[1;33m\u001b[0m\u001b[1;33m\u001b[0m\u001b[0m\n\u001b[0m",
      "\u001b[1;31mFileExistsError\u001b[0m: [Errno 17] File exists: 'C:\\\\Users\\\\DELL\\\\Desktop\\\\myfile.txt'"
     ]
    }
   ],
   "source": [
    "# Create a file called \"myfile.txt\":\n",
    "\n",
    "f = open(\"C:\\\\Users\\\\DELL\\\\Desktop\\\\myfile.txt\", \"x\")"
   ]
  },
  {
   "cell_type": "code",
   "execution_count": 4,
   "id": "afe8514d",
   "metadata": {},
   "outputs": [],
   "source": [
    "# Create a new file if it does not exist:\n",
    "f = open(\"C:\\\\Users\\\\DELL\\\\Desktop\\\\myfile.txt\", \"w\")"
   ]
  }
 ],
 "metadata": {
  "kernelspec": {
   "display_name": "Python 3",
   "language": "python",
   "name": "python3"
  },
  "language_info": {
   "codemirror_mode": {
    "name": "ipython",
    "version": 3
   },
   "file_extension": ".py",
   "mimetype": "text/x-python",
   "name": "python",
   "nbconvert_exporter": "python",
   "pygments_lexer": "ipython3",
   "version": "3.8.8"
  }
 },
 "nbformat": 4,
 "nbformat_minor": 5
}
