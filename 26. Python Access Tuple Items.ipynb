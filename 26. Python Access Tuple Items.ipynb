{
 "cells": [
  {
   "cell_type": "markdown",
   "id": "9c7135e3",
   "metadata": {},
   "source": [
    "# Access Tuple Items"
   ]
  },
  {
   "cell_type": "raw",
   "id": "68600bcb",
   "metadata": {},
   "source": [
    "You can access tuple items by referring to the index number, inside square brackets:"
   ]
  },
  {
   "cell_type": "code",
   "execution_count": 1,
   "id": "7b5443f6",
   "metadata": {},
   "outputs": [
    {
     "name": "stdout",
     "output_type": "stream",
     "text": [
      "banana\n"
     ]
    }
   ],
   "source": [
    "# Example\n",
    "# Print the second item in the tuple:\n",
    "\n",
    "thistuple = (\"apple\", \"banana\", \"cherry\")\n",
    "print(thistuple[1])"
   ]
  },
  {
   "cell_type": "raw",
   "id": "efaba264",
   "metadata": {},
   "source": [
    "Note: The first item has index 0."
   ]
  },
  {
   "cell_type": "markdown",
   "id": "94fdf211",
   "metadata": {},
   "source": [
    "# Negative Indexing"
   ]
  },
  {
   "cell_type": "raw",
   "id": "0b8de9ff",
   "metadata": {},
   "source": [
    "Negative indexing means start from the end.\n",
    "\n",
    "-1 refers to the last item, -2 refers to the second last item etc."
   ]
  },
  {
   "cell_type": "code",
   "execution_count": 2,
   "id": "10c7bed8",
   "metadata": {},
   "outputs": [
    {
     "name": "stdout",
     "output_type": "stream",
     "text": [
      "cherry\n"
     ]
    }
   ],
   "source": [
    "# Example\n",
    "# Print the last item of the tuple:\n",
    "\n",
    "thistuple = (\"apple\", \"banana\", \"cherry\")\n",
    "print(thistuple[-1])"
   ]
  },
  {
   "cell_type": "markdown",
   "id": "6907452a",
   "metadata": {},
   "source": [
    "# Range of Indexes"
   ]
  },
  {
   "cell_type": "raw",
   "id": "6e8c11a0",
   "metadata": {},
   "source": [
    "You can specify a range of indexes by specifying where to start and where to end the range.\n",
    "\n",
    "When specifying a range, the return value will be a new tuple with the specified items."
   ]
  },
  {
   "cell_type": "code",
   "execution_count": 3,
   "id": "46d731c4",
   "metadata": {},
   "outputs": [
    {
     "name": "stdout",
     "output_type": "stream",
     "text": [
      "('cherry', 'orange', 'kiwi')\n"
     ]
    }
   ],
   "source": [
    "# Example\n",
    "# Return the third, fourth, and fifth item:\n",
    "\n",
    "thistuple = (\"apple\", \"banana\", \"cherry\", \"orange\", \"kiwi\", \"melon\", \"mango\")\n",
    "print(thistuple[2:5])"
   ]
  },
  {
   "cell_type": "raw",
   "id": "ddab4b5a",
   "metadata": {},
   "source": [
    "Note: The search will start at index 2 (included) and end at index 5 (not included).\n",
    "\n",
    "Remember that the first item has index 0."
   ]
  },
  {
   "cell_type": "raw",
   "id": "73e3e822",
   "metadata": {},
   "source": [
    "By leaving out the start value, the range will start at the first item:"
   ]
  },
  {
   "cell_type": "code",
   "execution_count": 4,
   "id": "87dedc88",
   "metadata": {},
   "outputs": [
    {
     "name": "stdout",
     "output_type": "stream",
     "text": [
      "('apple', 'banana', 'cherry', 'orange')\n"
     ]
    }
   ],
   "source": [
    "# Example\n",
    "# This example returns the items from the beginning to, but NOT included, \"kiwi\":\n",
    "\n",
    "thistuple = (\"apple\", \"banana\", \"cherry\", \"orange\", \"kiwi\", \"melon\", \"mango\")\n",
    "print(thistuple[:4])"
   ]
  },
  {
   "cell_type": "raw",
   "id": "9bf1fc55",
   "metadata": {},
   "source": [
    "By leaving out the end value, the range will go on to the end of the list:"
   ]
  },
  {
   "cell_type": "code",
   "execution_count": 5,
   "id": "e4e5db17",
   "metadata": {},
   "outputs": [
    {
     "name": "stdout",
     "output_type": "stream",
     "text": [
      "('cherry', 'orange', 'kiwi', 'melon', 'mango')\n"
     ]
    }
   ],
   "source": [
    "# Example\n",
    "# This example returns the items from \"cherry\" and to the end:\n",
    "\n",
    "thistuple = (\"apple\", \"banana\", \"cherry\", \"orange\", \"kiwi\", \"melon\", \"mango\")\n",
    "print(thistuple[2:])"
   ]
  },
  {
   "cell_type": "markdown",
   "id": "cec34b32",
   "metadata": {},
   "source": [
    "# Range of Negative Indexes"
   ]
  },
  {
   "cell_type": "raw",
   "id": "954604d7",
   "metadata": {},
   "source": [
    "Specify negative indexes if you want to start the search from the end of the tuple:"
   ]
  },
  {
   "cell_type": "code",
   "execution_count": 6,
   "id": "230c94b6",
   "metadata": {},
   "outputs": [
    {
     "name": "stdout",
     "output_type": "stream",
     "text": [
      "('orange', 'kiwi', 'melon')\n"
     ]
    }
   ],
   "source": [
    "# Example\n",
    "# This example returns the items from index -4 (included) to index -1 (excluded)\n",
    "\n",
    "thistuple = (\"apple\", \"banana\", \"cherry\", \"orange\", \"kiwi\", \"melon\", \"mango\")\n",
    "print(thistuple[-4:-1])"
   ]
  },
  {
   "cell_type": "markdown",
   "id": "f0c1c0f4",
   "metadata": {},
   "source": [
    "# Check if Item Exists"
   ]
  },
  {
   "cell_type": "raw",
   "id": "102d49f9",
   "metadata": {},
   "source": [
    "To determine if a specified item is present in a tuple use the in keyword:"
   ]
  },
  {
   "cell_type": "code",
   "execution_count": 7,
   "id": "c0ff48ff",
   "metadata": {},
   "outputs": [
    {
     "name": "stdout",
     "output_type": "stream",
     "text": [
      "Yes, 'apple' is in the fruits tuple\n"
     ]
    }
   ],
   "source": [
    "# Example\n",
    "# Check if \"apple\" is present in the tuple:\n",
    "\n",
    "thistuple = (\"apple\", \"banana\", \"cherry\")\n",
    "if \"apple\" in thistuple:\n",
    "  print(\"Yes, 'apple' is in the fruits tuple\")\n"
   ]
  }
 ],
 "metadata": {
  "kernelspec": {
   "display_name": "Python 3",
   "language": "python",
   "name": "python3"
  },
  "language_info": {
   "codemirror_mode": {
    "name": "ipython",
    "version": 3
   },
   "file_extension": ".py",
   "mimetype": "text/x-python",
   "name": "python",
   "nbconvert_exporter": "python",
   "pygments_lexer": "ipython3",
   "version": "3.8.8"
  }
 },
 "nbformat": 4,
 "nbformat_minor": 5
}
