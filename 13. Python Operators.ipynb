{
 "cells": [
  {
   "cell_type": "markdown",
   "id": "f75a7091",
   "metadata": {},
   "source": [
    "# Python Operators"
   ]
  },
  {
   "cell_type": "markdown",
   "id": "dc1a8f91",
   "metadata": {},
   "source": [
    "Operators are used to perform operations on variables and values.\n",
    "\n",
    "In the example below, we use the + operator to add together two values:"
   ]
  },
  {
   "cell_type": "code",
   "execution_count": 1,
   "id": "bbd7b8ab",
   "metadata": {},
   "outputs": [
    {
     "name": "stdout",
     "output_type": "stream",
     "text": [
      "15\n"
     ]
    }
   ],
   "source": [
    "# Example\n",
    "\n",
    "print(10 + 5)"
   ]
  },
  {
   "cell_type": "raw",
   "id": "bfb66724",
   "metadata": {},
   "source": [
    "Python divides the operators in the following groups:\n",
    "\n",
    "Arithmetic operators\n",
    "Assignment operators\n",
    "Comparison operators\n",
    "Logical operators\n",
    "Identity operators\n",
    "Membership operators\n",
    "Bitwise operators\n"
   ]
  },
  {
   "cell_type": "markdown",
   "id": "a6bcb6c2",
   "metadata": {},
   "source": [
    "# Python Arithmetic Operators"
   ]
  },
  {
   "cell_type": "raw",
   "id": "aae0292d",
   "metadata": {},
   "source": [
    "# Python Arithmetic Operators\n",
    "\n",
    "Arithmetic operators are used with numeric values to perform common mathematical operations:\n",
    "\n",
    "Operator\tName\t   Example\n",
    "+          Addition\t    x + y\t\n",
    "-\t      Subtraction\tx - y\t\n",
    "*\t     Multiplication\tx * y\t\n",
    "/\t       Division\t    x / y\t\n",
    "%\t        Modulus\t    x % y\t\n",
    "**\t     Exponentiation\tx ** y\t\n",
    "//\t     Floor division\tx // y"
   ]
  },
  {
   "cell_type": "code",
   "execution_count": 2,
   "id": "69480170",
   "metadata": {},
   "outputs": [
    {
     "name": "stdout",
     "output_type": "stream",
     "text": [
      "8\n"
     ]
    }
   ],
   "source": [
    "# Arithmetic Addition Operator\n",
    "\n",
    "x = 5\n",
    "y = 3\n",
    "\n",
    "print(x + y)"
   ]
  },
  {
   "cell_type": "code",
   "execution_count": 3,
   "id": "c2c93c80",
   "metadata": {},
   "outputs": [
    {
     "name": "stdout",
     "output_type": "stream",
     "text": [
      "2\n"
     ]
    }
   ],
   "source": [
    "# Arithmetic Negative Operator\n",
    "\n",
    "x = 5\n",
    "y = 3\n",
    "\n",
    "print(x - y)"
   ]
  },
  {
   "cell_type": "code",
   "execution_count": 4,
   "id": "e1d9f517",
   "metadata": {},
   "outputs": [
    {
     "name": "stdout",
     "output_type": "stream",
     "text": [
      "15\n"
     ]
    }
   ],
   "source": [
    "# Arithmetic Multiplication Operator\n",
    "\n",
    "x = 5\n",
    "y = 3\n",
    "\n",
    "print(x * y)\n"
   ]
  },
  {
   "cell_type": "code",
   "execution_count": 5,
   "id": "1daf93da",
   "metadata": {},
   "outputs": [
    {
     "name": "stdout",
     "output_type": "stream",
     "text": [
      "4.0\n"
     ]
    }
   ],
   "source": [
    "# Arithmetic Division Operator\n",
    "\n",
    "x = 12\n",
    "y = 3\n",
    "\n",
    "print(x / y)"
   ]
  },
  {
   "cell_type": "code",
   "execution_count": 6,
   "id": "384e498d",
   "metadata": {},
   "outputs": [
    {
     "name": "stdout",
     "output_type": "stream",
     "text": [
      "1\n"
     ]
    }
   ],
   "source": [
    "# Arithmetic Modulus Operator\n",
    "\n",
    "x = 5\n",
    "y = 2\n",
    "\n",
    "print(x % y)"
   ]
  },
  {
   "cell_type": "code",
   "execution_count": 7,
   "id": "30a68464",
   "metadata": {},
   "outputs": [
    {
     "name": "stdout",
     "output_type": "stream",
     "text": [
      "32\n"
     ]
    }
   ],
   "source": [
    "# Arithmetic Exponentiation Operator\n",
    "\n",
    "x = 2\n",
    "y = 5\n",
    "\n",
    "print(x ** y) #same as 2*2*2*2*2"
   ]
  },
  {
   "cell_type": "code",
   "execution_count": 8,
   "id": "4cca9699",
   "metadata": {},
   "outputs": [
    {
     "name": "stdout",
     "output_type": "stream",
     "text": [
      "7\n"
     ]
    }
   ],
   "source": [
    "# Arithmetic Floor Operator\n",
    "\n",
    "x = 15\n",
    "y = 2\n",
    "\n",
    "print(x // y)\n",
    "\n",
    "#the floor division // rounds the result down to the nearest whole number"
   ]
  },
  {
   "cell_type": "markdown",
   "id": "10c12da2",
   "metadata": {},
   "source": [
    "# Python Assignment Operators"
   ]
  },
  {
   "cell_type": "raw",
   "id": "2348fd7d",
   "metadata": {},
   "source": [
    "# Python Assignment Operators\n",
    "\n",
    "Assignment operators are used to assign values to variables:\n",
    "    \n",
    "Operator\tExample\tSame As\n",
    "=\t        x = 5\tx = 5\t\n",
    "+=\t        x += 3\tx = x + 3\t\n",
    "-=\t        x -= 3\tx = x - 3\t\n",
    "*=\t        x *= 3\tx = x * 3\t\n",
    "/=\t        x /= 3\tx = x / 3\t\n",
    "%=\t        x %= 3\tx = x % 3\t\n",
    "//=\t        x //= 3\tx = x // 3\t\n",
    "**=\t        x **= 3\tx = x ** 3\t\n",
    "&=\t        x &= 3\tx = x & 3\t\n",
    "|=\t        x |= 3\tx = x | 3\t\n",
    "^=\t        x ^= 3\tx = x ^ 3\t\n",
    ">>=\t        x >>= 3\tx = x >> 3\t\n",
    "<<=\t        x <<= 3\tx = x << 3\n",
    "    "
   ]
  },
  {
   "cell_type": "code",
   "execution_count": 9,
   "id": "e314efb5",
   "metadata": {},
   "outputs": [
    {
     "name": "stdout",
     "output_type": "stream",
     "text": [
      "5\n"
     ]
    }
   ],
   "source": [
    "# = \n",
    "\n",
    "x = 5\n",
    "\n",
    "print(x)"
   ]
  },
  {
   "cell_type": "code",
   "execution_count": 10,
   "id": "73cbd44c",
   "metadata": {},
   "outputs": [
    {
     "name": "stdout",
     "output_type": "stream",
     "text": [
      "8\n"
     ]
    }
   ],
   "source": [
    "# +=\n",
    "\n",
    "x = 5\n",
    "\n",
    "x += 3\n",
    "\n",
    "print(x)"
   ]
  },
  {
   "cell_type": "code",
   "execution_count": 11,
   "id": "8d3b05f3",
   "metadata": {},
   "outputs": [
    {
     "name": "stdout",
     "output_type": "stream",
     "text": [
      "2\n"
     ]
    }
   ],
   "source": [
    "# -=\n",
    "\n",
    "x = 5\n",
    "\n",
    "x -= 3\n",
    "\n",
    "print(x)"
   ]
  },
  {
   "cell_type": "code",
   "execution_count": 12,
   "id": "06e6bc62",
   "metadata": {},
   "outputs": [
    {
     "name": "stdout",
     "output_type": "stream",
     "text": [
      "15\n"
     ]
    }
   ],
   "source": [
    "# *=\n",
    "\n",
    "x = 5\n",
    "\n",
    "x *= 3\n",
    "\n",
    "print(x)"
   ]
  },
  {
   "cell_type": "code",
   "execution_count": 13,
   "id": "2331db63",
   "metadata": {},
   "outputs": [
    {
     "name": "stdout",
     "output_type": "stream",
     "text": [
      "1.6666666666666667\n"
     ]
    }
   ],
   "source": [
    "# /=\n",
    "\n",
    "x = 5\n",
    "\n",
    "x /= 3\n",
    "\n",
    "print(x)"
   ]
  },
  {
   "cell_type": "code",
   "execution_count": 14,
   "id": "f94dd9e9",
   "metadata": {},
   "outputs": [
    {
     "name": "stdout",
     "output_type": "stream",
     "text": [
      "2\n"
     ]
    }
   ],
   "source": [
    "# %=\n",
    "\n",
    "x = 5\n",
    "\n",
    "x%=3\n",
    "\n",
    "print(x)"
   ]
  },
  {
   "cell_type": "code",
   "execution_count": 15,
   "id": "b749eb24",
   "metadata": {},
   "outputs": [
    {
     "name": "stdout",
     "output_type": "stream",
     "text": [
      "1\n"
     ]
    }
   ],
   "source": [
    "# //\n",
    "\n",
    "x = 5\n",
    "\n",
    "x//=3\n",
    "\n",
    "print(x)"
   ]
  },
  {
   "cell_type": "code",
   "execution_count": 16,
   "id": "164c1939",
   "metadata": {},
   "outputs": [
    {
     "name": "stdout",
     "output_type": "stream",
     "text": [
      "125\n"
     ]
    }
   ],
   "source": [
    "# **\n",
    "\n",
    "x = 5\n",
    "\n",
    "x **= 3\n",
    "\n",
    "print(x)"
   ]
  },
  {
   "cell_type": "code",
   "execution_count": 17,
   "id": "ea6279d9",
   "metadata": {},
   "outputs": [
    {
     "name": "stdout",
     "output_type": "stream",
     "text": [
      "1\n"
     ]
    }
   ],
   "source": [
    "# &=\n",
    "\n",
    "x = 5\n",
    "\n",
    "x &= 3\n",
    "\n",
    "print(x)"
   ]
  },
  {
   "cell_type": "code",
   "execution_count": 18,
   "id": "34961a1f",
   "metadata": {},
   "outputs": [
    {
     "name": "stdout",
     "output_type": "stream",
     "text": [
      "7\n"
     ]
    }
   ],
   "source": [
    "# |=\n",
    "\n",
    "x = 5\n",
    "\n",
    "x |= 3\n",
    "\n",
    "print(x)\n"
   ]
  },
  {
   "cell_type": "code",
   "execution_count": 19,
   "id": "743cb24d",
   "metadata": {},
   "outputs": [
    {
     "name": "stdout",
     "output_type": "stream",
     "text": [
      "6\n"
     ]
    }
   ],
   "source": [
    "# ^=\n",
    "\n",
    "x = 5\n",
    "\n",
    "x ^= 3\n",
    "\n",
    "print(x)"
   ]
  },
  {
   "cell_type": "code",
   "execution_count": 20,
   "id": "f219dd44",
   "metadata": {},
   "outputs": [
    {
     "name": "stdout",
     "output_type": "stream",
     "text": [
      "0\n"
     ]
    }
   ],
   "source": [
    "# >>=\n",
    "\n",
    "x = 5\n",
    "\n",
    "x >>= 3\n",
    "\n",
    "print(x)"
   ]
  },
  {
   "cell_type": "code",
   "execution_count": 21,
   "id": "65adcc0a",
   "metadata": {},
   "outputs": [
    {
     "name": "stdout",
     "output_type": "stream",
     "text": [
      "40\n"
     ]
    }
   ],
   "source": [
    "# <<=\n",
    "\n",
    "x = 5\n",
    "\n",
    "x <<= 3\n",
    "\n",
    "print(x)"
   ]
  },
  {
   "cell_type": "markdown",
   "id": "158375d4",
   "metadata": {},
   "source": [
    "# Python Comparision Operator"
   ]
  },
  {
   "cell_type": "raw",
   "id": "8d368de7",
   "metadata": {},
   "source": [
    "Python Comparison Operators\n",
    "Comparison operators are used to compare two values:\n",
    "\n",
    "Operator\t  Name\t                 Example\n",
    "    ==\t      Equal\t                 x == y\t\n",
    "    !=\t    Not equal\t             x != y\t\n",
    "    >\t   Greater than\t              x > y\t\n",
    "    <\t     Less than\t              x < y\t\n",
    "    >=\t Greater than or equal to\t  x >= y\t\n",
    "    <=\t  Less than or equal to\t      x <= y"
   ]
  },
  {
   "cell_type": "code",
   "execution_count": 22,
   "id": "5d9e9d03",
   "metadata": {},
   "outputs": [
    {
     "name": "stdout",
     "output_type": "stream",
     "text": [
      "False\n"
     ]
    }
   ],
   "source": [
    "# Equal\n",
    "\n",
    "x = 5\n",
    "y = 3\n",
    "\n",
    "print(x == y)\n",
    "\n",
    "# returns False because 5 is not equal to 3"
   ]
  },
  {
   "cell_type": "code",
   "execution_count": 23,
   "id": "849c6118",
   "metadata": {},
   "outputs": [
    {
     "name": "stdout",
     "output_type": "stream",
     "text": [
      "True\n"
     ]
    }
   ],
   "source": [
    "# Not Equal\n",
    "\n",
    "x = 5\n",
    "y = 3\n",
    "\n",
    "print(x != y)\n",
    "\n",
    "# returns True because 5 is not equal to 3"
   ]
  },
  {
   "cell_type": "code",
   "execution_count": 24,
   "id": "a1022cef",
   "metadata": {},
   "outputs": [
    {
     "name": "stdout",
     "output_type": "stream",
     "text": [
      "True\n"
     ]
    }
   ],
   "source": [
    "# Greater than\n",
    "\n",
    "x = 5\n",
    "y = 3\n",
    "\n",
    "print(x > y)\n",
    "\n",
    "# returns True because 5 is greater than 3"
   ]
  },
  {
   "cell_type": "code",
   "execution_count": 25,
   "id": "ae31dc48",
   "metadata": {},
   "outputs": [
    {
     "name": "stdout",
     "output_type": "stream",
     "text": [
      "False\n"
     ]
    }
   ],
   "source": [
    "# Less than\n",
    "\n",
    "x = 5\n",
    "y = 3\n",
    "\n",
    "print(x < y)\n",
    "\n",
    "# returns False because 5 is not less than 3"
   ]
  },
  {
   "cell_type": "code",
   "execution_count": 26,
   "id": "b73f2814",
   "metadata": {},
   "outputs": [
    {
     "name": "stdout",
     "output_type": "stream",
     "text": [
      "True\n"
     ]
    }
   ],
   "source": [
    "# Greater than or equal to\n",
    "\n",
    "x = 5\n",
    "y = 3\n",
    "\n",
    "print(x >= y)\n",
    "\n",
    "# returns True because five is greater, or equal, to 3"
   ]
  },
  {
   "cell_type": "code",
   "execution_count": 27,
   "id": "af2f7a0e",
   "metadata": {},
   "outputs": [
    {
     "name": "stdout",
     "output_type": "stream",
     "text": [
      "False\n"
     ]
    }
   ],
   "source": [
    "# Less than or equal to\n",
    "\n",
    "x = 5\n",
    "y = 3\n",
    "\n",
    "print(x <= y)\n",
    "\n",
    "# returns True because five is greater, or equal, to 3"
   ]
  },
  {
   "cell_type": "markdown",
   "id": "695b70ae",
   "metadata": {},
   "source": [
    "# Python Logical Operator"
   ]
  },
  {
   "cell_type": "raw",
   "id": "376313f8",
   "metadata": {},
   "source": [
    "Python Logical Operator\n",
    "\n",
    "Logical operators are used to combine conditional statements:\n",
    "\n",
    "Operator\t      Description\t                                            Example\t\n",
    "\n",
    "  and \t   Returns True if both statements are true\t                    x < 5 and  x < 10\t\n",
    "  \n",
    "   or\t  Returns True if one of the statements is true\t                 x < 5 or x < 4\t\n",
    "   \n",
    "  not    Reverse the result, returns False if the result is true       not(x < 5 and x < 10)"
   ]
  },
  {
   "cell_type": "code",
   "execution_count": 28,
   "id": "ab0b43e7",
   "metadata": {},
   "outputs": [
    {
     "name": "stdout",
     "output_type": "stream",
     "text": [
      "True\n"
     ]
    }
   ],
   "source": [
    "# and operator\n",
    "\n",
    "x = 5\n",
    "\n",
    "print(x > 3 and x < 10)\n",
    "\n",
    "# returns True because 5 is greater than 3 AND 5 is less than 10"
   ]
  },
  {
   "cell_type": "raw",
   "id": "44adb25b",
   "metadata": {},
   "source": [
    "# or operator\n",
    "\n",
    "x = 5\n",
    "\n",
    "print(x > 3 or x < 4)\n",
    "\n",
    "# returns True because one of the conditions are true (5 is greater than 3, but 5 is not less than 4)"
   ]
  },
  {
   "cell_type": "code",
   "execution_count": 29,
   "id": "ad55a4f4",
   "metadata": {},
   "outputs": [
    {
     "name": "stdout",
     "output_type": "stream",
     "text": [
      "True\n"
     ]
    }
   ],
   "source": [
    "# not operator\n",
    "\n",
    "x = 5\n",
    "\n",
    "print(not(x > 3 and x < 4))\n",
    "\n",
    "# returns True because one of the conditions are true (5 is greater than 3, but 5 is not less than 4)"
   ]
  },
  {
   "cell_type": "code",
   "execution_count": 30,
   "id": "981b5ad8",
   "metadata": {},
   "outputs": [],
   "source": [
    "# Python Identity Operator"
   ]
  },
  {
   "cell_type": "raw",
   "id": "0451d4d8",
   "metadata": {},
   "source": [
    "Python Identity Operators\n",
    "\n",
    "Identity operators are used to compare the objects, not if they are equal, but if they are actually the same object, with the same memory location:\n",
    "\n",
    "Operator\t                         Description\t                             Example\n",
    "is                 Returns True if both variables are the same object\t          x is y\t\n",
    "is not          \tReturns True if both variables are not the same object\t     x is not y"
   ]
  },
  {
   "cell_type": "code",
   "execution_count": 31,
   "id": "8efdb4c2",
   "metadata": {},
   "outputs": [
    {
     "name": "stdout",
     "output_type": "stream",
     "text": [
      "True\n",
      "False\n",
      "True\n"
     ]
    }
   ],
   "source": [
    "x = [\"apple\", \"banana\"]\n",
    "y = [\"apple\", \"banana\"]\n",
    "z = x\n",
    "\n",
    "print(x is z)\n",
    "\n",
    "# returns True because z is the same object as x\n",
    "\n",
    "print(x is y)\n",
    "\n",
    "# returns False because x is not the same object as y, even if they have the same content\n",
    "\n",
    "print(x == y)\n",
    "\n",
    "# to demonstrate the difference betweeen \"is\" and \"==\": this comparison returns True because x is equal to y"
   ]
  },
  {
   "cell_type": "code",
   "execution_count": 32,
   "id": "bb2dc6d4",
   "metadata": {},
   "outputs": [
    {
     "name": "stdout",
     "output_type": "stream",
     "text": [
      "False\n",
      "True\n",
      "False\n"
     ]
    }
   ],
   "source": [
    "x = [\"apple\", \"banana\"]\n",
    "y = [\"apple\", \"banana\"]\n",
    "z = x\n",
    "\n",
    "print(x is not z)\n",
    "\n",
    "# returns False because z is the same object as x\n",
    "\n",
    "print(x is not y)\n",
    "\n",
    "# returns True because x is not the same object as y, even if they have the same content\n",
    "\n",
    "print(x != y)\n",
    "\n",
    "# to demonstrate the difference betweeen \"is not\" and \"!=\": this comparison returns False because x is equal to y"
   ]
  },
  {
   "cell_type": "markdown",
   "id": "cc308616",
   "metadata": {},
   "source": [
    "# Python Membership Operators"
   ]
  },
  {
   "cell_type": "raw",
   "id": "e90f2692",
   "metadata": {},
   "source": [
    "Python Membership Operators\n",
    "\n",
    "Membership operators are used to test if a sequence is presented in an object:\n",
    "\n",
    "Operator\t                                        Description     \t                            Example\n",
    "\n",
    "in          \tReturns True if a sequence with the specified value is present in the object\t     x in y  \t\n",
    "\n",
    "not in      \tReturns True if a sequence with the specified value is not present in the object\tx not in y\t"
   ]
  },
  {
   "cell_type": "code",
   "execution_count": 33,
   "id": "01881072",
   "metadata": {},
   "outputs": [
    {
     "name": "stdout",
     "output_type": "stream",
     "text": [
      "True\n"
     ]
    }
   ],
   "source": [
    "# in Operator\n",
    "\n",
    "x = [\"apple\", \"banana\"]\n",
    "\n",
    "print(\"banana\" in x)\n",
    "\n",
    "# returns True because a sequence with the value \"banana\" is in the list"
   ]
  },
  {
   "cell_type": "code",
   "execution_count": 34,
   "id": "5c692d89",
   "metadata": {},
   "outputs": [
    {
     "name": "stdout",
     "output_type": "stream",
     "text": [
      "True\n"
     ]
    }
   ],
   "source": [
    "# not in Operator\n",
    "\n",
    "x = [\"apple\", \"banana\"]\n",
    "\n",
    "print(\"pineapple\" not in x)\n",
    "\n",
    "# returns True because a sequence with the value \"pineapple\" is not in the list\""
   ]
  },
  {
   "cell_type": "markdown",
   "id": "8460d768",
   "metadata": {},
   "source": [
    "# Python Bitwise Operators"
   ]
  },
  {
   "cell_type": "raw",
   "id": "a3350551",
   "metadata": {},
   "source": [
    "Python Bitwise Operators\n",
    "\n",
    "Bitwise operators are used to compare (binary) numbers:\n",
    "\n",
    "Operator        \tName                        \tDescription\n",
    "\n",
    "  &             \tAND                         \tSets each bit to 1 if both bits are 1\n",
    "    \n",
    "  |             \tOR                          \tSets each bit to 1 if one of two bits is 1\n",
    "\n",
    "  ^             \tXOR                         \tSets each bit to 1 if only one of two bits is 1\n",
    "    \n",
    "  ~             \tNOT                         \tInverts all the bits\n",
    "\n",
    " <<             \tZero fill left shift        \tShift left by pushing zeros in from the right and let the leftmost bits fall off\n",
    "    \n",
    " >>             \tSigned right shift          \tShift right by pushing copies of the leftmost bit in from the left, and let the rightmost bits fall off"
   ]
  }
 ],
 "metadata": {
  "kernelspec": {
   "display_name": "Python 3",
   "language": "python",
   "name": "python3"
  },
  "language_info": {
   "codemirror_mode": {
    "name": "ipython",
    "version": 3
   },
   "file_extension": ".py",
   "mimetype": "text/x-python",
   "name": "python",
   "nbconvert_exporter": "python",
   "pygments_lexer": "ipython3",
   "version": "3.8.8"
  }
 },
 "nbformat": 4,
 "nbformat_minor": 5
}
