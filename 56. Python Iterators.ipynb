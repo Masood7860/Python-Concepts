{
 "cells": [
  {
   "cell_type": "markdown",
   "id": "1fe6bac5",
   "metadata": {},
   "source": [
    "# Python Iterators"
   ]
  },
  {
   "cell_type": "raw",
   "id": "b9445c6b",
   "metadata": {},
   "source": [
    "An iterator is an object that contains a countable number of values."
   ]
  },
  {
   "cell_type": "raw",
   "id": "20a8eab0",
   "metadata": {},
   "source": [
    "An iterator is an object that can be iterated upon, meaning that you can traverse through all the values."
   ]
  },
  {
   "cell_type": "raw",
   "id": "2f74d20a",
   "metadata": {},
   "source": [
    "Technically, in Python, an iterator is an object which implements the iterator protocol, which consist of the methods __iter__() and __next__()."
   ]
  },
  {
   "cell_type": "markdown",
   "id": "4fea2b4c",
   "metadata": {},
   "source": [
    "# Iterator vs Iterable"
   ]
  },
  {
   "cell_type": "raw",
   "id": "4123b313",
   "metadata": {},
   "source": [
    "Lists, tuples, dictionaries, and sets are all iterable objects. They are iterable containers which you can get an iterator from."
   ]
  },
  {
   "cell_type": "raw",
   "id": "65e1e687",
   "metadata": {},
   "source": [
    "All these objects have a iter() method which is used to get an iterator:"
   ]
  },
  {
   "cell_type": "code",
   "execution_count": 1,
   "id": "0a85d3c4",
   "metadata": {},
   "outputs": [
    {
     "name": "stdout",
     "output_type": "stream",
     "text": [
      "apple\n",
      "banana\n",
      "cherry\n"
     ]
    }
   ],
   "source": [
    "# Return an iterator from a tuple, and print each value:\n",
    "\n",
    "mytuple = (\"apple\", \"banana\", \"cherry\")\n",
    "myit = iter(mytuple)\n",
    "\n",
    "print(next(myit))\n",
    "print(next(myit))\n",
    "print(next(myit))"
   ]
  },
  {
   "cell_type": "raw",
   "id": "159ba207",
   "metadata": {},
   "source": [
    "Even strings are iterable objects, and can return an iterator:"
   ]
  },
  {
   "cell_type": "code",
   "execution_count": 2,
   "id": "2df763ce",
   "metadata": {},
   "outputs": [
    {
     "name": "stdout",
     "output_type": "stream",
     "text": [
      "b\n",
      "a\n",
      "n\n",
      "a\n",
      "n\n",
      "a\n"
     ]
    }
   ],
   "source": [
    "# Strings are also iterable objects, containing a sequence of characters:\n",
    "\n",
    "mystr = \"banana\"\n",
    "myit = iter(mystr)\n",
    "\n",
    "print(next(myit))\n",
    "print(next(myit))\n",
    "print(next(myit))\n",
    "print(next(myit))\n",
    "print(next(myit))\n",
    "print(next(myit))"
   ]
  },
  {
   "cell_type": "markdown",
   "id": "28ee7268",
   "metadata": {},
   "source": [
    "# Looping Through an Iterator"
   ]
  },
  {
   "cell_type": "raw",
   "id": "e161e24c",
   "metadata": {},
   "source": [
    "We can also use a for loop to iterate through an iterable object:"
   ]
  },
  {
   "cell_type": "code",
   "execution_count": null,
   "id": "512b8f20",
   "metadata": {},
   "outputs": [],
   "source": [
    "# Iterate the values of a tuple:\n",
    "\n",
    "mytuple = (\"apple\", \"banana\", \"cherry\")\n",
    "\n",
    "for x in mytuple:\n",
    "    print(x)"
   ]
  },
  {
   "cell_type": "code",
   "execution_count": null,
   "id": "f4c3fca1",
   "metadata": {},
   "outputs": [],
   "source": [
    "# Iterate the characters of a string:\n",
    "\n",
    "mystr = \"banana\"\n",
    "\n",
    "for x in mystr:\n",
    "    print(x)"
   ]
  },
  {
   "cell_type": "raw",
   "id": "434c81e9",
   "metadata": {},
   "source": [
    "The for loop actually creates an iterator object and executes the next() method for each loop."
   ]
  },
  {
   "cell_type": "markdown",
   "id": "000173c8",
   "metadata": {},
   "source": [
    "# Create an Iterator"
   ]
  },
  {
   "cell_type": "raw",
   "id": "4357cfbb",
   "metadata": {},
   "source": [
    "To create an object/class as an iterator you have to implement the methods __iter__() and __next__() to your object."
   ]
  },
  {
   "cell_type": "raw",
   "id": "d277b1e7",
   "metadata": {},
   "source": [
    "As you have learned in the Python Classes/Objects chapter, all classes have a function called __init__(), which allows you to do some initializing when the object is being created."
   ]
  },
  {
   "cell_type": "raw",
   "id": "5ff34b2e",
   "metadata": {},
   "source": [
    "The __iter__() method acts similar, you can do operations (initializing etc.), but must always return the iterator object itself."
   ]
  },
  {
   "cell_type": "raw",
   "id": "226d477e",
   "metadata": {},
   "source": [
    "The __next__() method also allows you to do operations, and must return the next item in the sequence."
   ]
  },
  {
   "cell_type": "code",
   "execution_count": null,
   "id": "6d59b6a3",
   "metadata": {},
   "outputs": [],
   "source": [
    "# Create an iterator that returns numbers, starting with 1, and each sequence will increase by one (returning 1,2,3,4,5 etc.):\n",
    "\n",
    "class MyNumbers:\n",
    "    def __iter__(self):\n",
    "        self.a = 1\n",
    "        return self\n",
    "\n",
    "    def __next__(self):\n",
    "        x = self.a\n",
    "        self.a += 1\n",
    "        return x\n",
    "\n",
    "myclass = MyNumbers()\n",
    "myiter = iter(myclass)\n",
    "\n",
    "print(next(myiter))\n",
    "print(next(myiter))\n",
    "print(next(myiter))\n",
    "print(next(myiter))\n",
    "print(next(myiter))"
   ]
  },
  {
   "cell_type": "markdown",
   "id": "340d5e64",
   "metadata": {},
   "source": [
    "# StopIteration"
   ]
  },
  {
   "cell_type": "raw",
   "id": "aa9642d5",
   "metadata": {},
   "source": [
    "The example above would continue forever if you had enough next() statements, or if it was used in a for loop."
   ]
  },
  {
   "cell_type": "raw",
   "id": "54c88108",
   "metadata": {},
   "source": [
    "To prevent the iteration to go on forever, we can use the StopIteration statement."
   ]
  },
  {
   "cell_type": "raw",
   "id": "c54c546a",
   "metadata": {},
   "source": [
    "In the __next__() method, we can add a terminating condition to raise an error if the iteration is done a specified number of times:"
   ]
  },
  {
   "cell_type": "code",
   "execution_count": null,
   "id": "6246a566",
   "metadata": {},
   "outputs": [],
   "source": [
    "# Stop after 20 iterations:\n",
    "\n",
    "class MyNumbers:\n",
    "    def __iter__(self):\n",
    "        self.a = 1\n",
    "        return self\n",
    "\n",
    "    def __next__(self):\n",
    "        if self.a <= 20:\n",
    "            x = self.a\n",
    "            self.a += 1\n",
    "            return x\n",
    "        else:\n",
    "            raise StopIteration\n",
    "\n",
    "myclass = MyNumbers()\n",
    "myiter = iter(myclass)\n",
    "\n",
    "for x in myiter:\n",
    "    print(x)"
   ]
  }
 ],
 "metadata": {
  "kernelspec": {
   "display_name": "Python 3",
   "language": "python",
   "name": "python3"
  },
  "language_info": {
   "codemirror_mode": {
    "name": "ipython",
    "version": 3
   },
   "file_extension": ".py",
   "mimetype": "text/x-python",
   "name": "python",
   "nbconvert_exporter": "python",
   "pygments_lexer": "ipython3",
   "version": "3.8.8"
  }
 },
 "nbformat": 4,
 "nbformat_minor": 5
}
