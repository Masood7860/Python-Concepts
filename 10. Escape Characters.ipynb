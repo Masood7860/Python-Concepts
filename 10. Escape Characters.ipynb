{
 "cells": [
  {
   "cell_type": "markdown",
   "id": "c02ce3c2",
   "metadata": {},
   "source": [
    "# Escape Characters\n",
    "\n",
    "To insert characters that are illegal in a string, use an escape character.\n",
    "\n",
    "An escape character is a backslash \\ followed by the character you want to insert.\n",
    "\n",
    "An example of an illegal character is a double quote inside a string that is surrounded by double quotes:"
   ]
  },
  {
   "cell_type": "code",
   "execution_count": 2,
   "id": "2375f1fe",
   "metadata": {},
   "outputs": [
    {
     "ename": "SyntaxError",
     "evalue": "invalid syntax (<ipython-input-2-6f21fd4c14c6>, line 5)",
     "output_type": "error",
     "traceback": [
      "\u001b[1;36m  File \u001b[1;32m\"<ipython-input-2-6f21fd4c14c6>\"\u001b[1;36m, line \u001b[1;32m5\u001b[0m\n\u001b[1;33m    txt = \"We are the so-called \"Vikings\" from the north.\"\u001b[0m\n\u001b[1;37m                                 ^\u001b[0m\n\u001b[1;31mSyntaxError\u001b[0m\u001b[1;31m:\u001b[0m invalid syntax\n"
     ]
    }
   ],
   "source": [
    "#Example\n",
    "\n",
    "# You will get an error if you use double quotes inside a string that is surrounded by double quotes:\n",
    "\n",
    "txt = \"We are the so-called \"Vikings\" from the north.\"\n",
    "print(txt)"
   ]
  },
  {
   "cell_type": "markdown",
   "id": "6a7ba0e4",
   "metadata": {},
   "source": [
    "To fix this problem, use the escape character \\\":"
   ]
  },
  {
   "cell_type": "code",
   "execution_count": 3,
   "id": "6ac9001d",
   "metadata": {},
   "outputs": [
    {
     "name": "stdout",
     "output_type": "stream",
     "text": [
      "We are the so-called \"Vikings\" from the north.\n"
     ]
    }
   ],
   "source": [
    "# Example\n",
    "\n",
    "# The escape character allows you to use double quotes when you normally would not be allowed:\n",
    "\n",
    "txt = \"We are the so-called \\\"Vikings\\\" from the north.\"\n",
    "print(txt)"
   ]
  },
  {
   "cell_type": "markdown",
   "id": "7ba8ce66",
   "metadata": {},
   "source": [
    "# Escape Characters\n",
    "\n",
    "Other escape characters used in Python:\n",
    "\n",
    "Code            Result\n",
    "\n",
    "\\\t         Single Quote\n",
    "\n",
    "\\\\\\\t           Backslash\n",
    "\n",
    "\\n\t           New Line\t\n",
    "\n",
    "\\r\t         Carriage Return\t\n",
    "\n",
    "\\t\t             Tab\t\n",
    "\n",
    "\\b\t           Backspace\t\n",
    "\n",
    "\\f\t           Form Feed\t\n",
    "\n",
    "\\ooo\t      Octal value\t\n",
    "\n",
    "\\xhh          Hex value"
   ]
  },
  {
   "cell_type": "code",
   "execution_count": 4,
   "id": "b705eed5",
   "metadata": {},
   "outputs": [
    {
     "name": "stdout",
     "output_type": "stream",
     "text": [
      "It's alright.\n"
     ]
    }
   ],
   "source": [
    "# Single Quote\n",
    "\n",
    "txt = 'It\\'s alright.'\n",
    "print(txt) "
   ]
  },
  {
   "cell_type": "code",
   "execution_count": 5,
   "id": "c528ab5d",
   "metadata": {},
   "outputs": [
    {
     "name": "stdout",
     "output_type": "stream",
     "text": [
      "This will insert one \\ (backslash).\n"
     ]
    }
   ],
   "source": [
    "# Backslash\n",
    "\n",
    "txt = \"This will insert one \\\\ (backslash).\"\n",
    "print(txt) "
   ]
  },
  {
   "cell_type": "code",
   "execution_count": 6,
   "id": "b6ca9aed",
   "metadata": {},
   "outputs": [
    {
     "name": "stdout",
     "output_type": "stream",
     "text": [
      "Hello\n",
      "World!\n"
     ]
    }
   ],
   "source": [
    "# New Line\n",
    "\n",
    "txt = \"Hello\\nWorld!\"\n",
    "print(txt) "
   ]
  },
  {
   "cell_type": "code",
   "execution_count": 7,
   "id": "a9d8c7a8",
   "metadata": {},
   "outputs": [
    {
     "name": "stdout",
     "output_type": "stream",
     "text": [
      "Hello\r",
      "World!\n"
     ]
    }
   ],
   "source": [
    "# Carriage Return\n",
    "\n",
    "txt = \"Hello\\rWorld!\"\n",
    "print(txt)"
   ]
  },
  {
   "cell_type": "code",
   "execution_count": 8,
   "id": "3b4f5634",
   "metadata": {},
   "outputs": [
    {
     "name": "stdout",
     "output_type": "stream",
     "text": [
      "Hello\tWorld!\n"
     ]
    }
   ],
   "source": [
    "# Tab\n",
    "\n",
    "txt = \"Hello\\tWorld!\"\n",
    "print(txt) "
   ]
  },
  {
   "cell_type": "code",
   "execution_count": 9,
   "id": "f862d32c",
   "metadata": {},
   "outputs": [
    {
     "name": "stdout",
     "output_type": "stream",
     "text": [
      "Hello \bWorld!\n"
     ]
    }
   ],
   "source": [
    "#This example erases one character (backspace):\n",
    "\n",
    "txt = \"Hello \\bWorld!\"\n",
    "print(txt) "
   ]
  },
  {
   "cell_type": "code",
   "execution_count": 10,
   "id": "75f338a7",
   "metadata": {},
   "outputs": [
    {
     "name": "stdout",
     "output_type": "stream",
     "text": [
      "Hello\n"
     ]
    }
   ],
   "source": [
    "#A backslash followed by three integers will result in a octal value:\n",
    "\n",
    "txt = \"\\110\\145\\154\\154\\157\"\n",
    "print(txt) "
   ]
  },
  {
   "cell_type": "code",
   "execution_count": 11,
   "id": "7161b306",
   "metadata": {},
   "outputs": [
    {
     "name": "stdout",
     "output_type": "stream",
     "text": [
      "Hello\n"
     ]
    }
   ],
   "source": [
    "#A backslash followed by an 'x' and a hex number represents a hex value:\n",
    "\n",
    "txt = \"\\x48\\x65\\x6c\\x6c\\x6f\"\n",
    "print(txt) "
   ]
  }
 ],
 "metadata": {
  "kernelspec": {
   "display_name": "Python 3",
   "language": "python",
   "name": "python3"
  },
  "language_info": {
   "codemirror_mode": {
    "name": "ipython",
    "version": 3
   },
   "file_extension": ".py",
   "mimetype": "text/x-python",
   "name": "python",
   "nbconvert_exporter": "python",
   "pygments_lexer": "ipython3",
   "version": "3.8.8"
  }
 },
 "nbformat": 4,
 "nbformat_minor": 5
}
