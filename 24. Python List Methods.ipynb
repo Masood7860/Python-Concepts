{
 "cells": [
  {
   "cell_type": "markdown",
   "id": "04a97c13",
   "metadata": {},
   "source": [
    "# Python List Methods"
   ]
  },
  {
   "cell_type": "markdown",
   "id": "ec251971",
   "metadata": {},
   "source": [
    "# List Methods"
   ]
  },
  {
   "cell_type": "raw",
   "id": "930e5036",
   "metadata": {},
   "source": [
    "Python has a set of built-in methods that you can use on lists."
   ]
  },
  {
   "cell_type": "raw",
   "id": "5dab117e",
   "metadata": {},
   "source": [
    "Method\tDescription\n",
    "append()\tAdds an element at the end of the list\n",
    "clear()\tRemoves all the elements from the list\n",
    "copy()\tReturns a copy of the list\n",
    "count()\tReturns the number of elements with the specified value\n",
    "extend()\tAdd the elements of a list (or any iterable), to the end of the current list\n",
    "index()\tReturns the index of the first element with the specified value\n",
    "insert()\tAdds an element at the specified position\n",
    "pop()\tRemoves the element at the specified position\n",
    "remove()\tRemoves the item with the specified value\n",
    "reverse()\tReverses the order of the list\n",
    "sort()\tSorts the list"
   ]
  }
 ],
 "metadata": {
  "kernelspec": {
   "display_name": "Python 3",
   "language": "python",
   "name": "python3"
  },
  "language_info": {
   "codemirror_mode": {
    "name": "ipython",
    "version": 3
   },
   "file_extension": ".py",
   "mimetype": "text/x-python",
   "name": "python",
   "nbconvert_exporter": "python",
   "pygments_lexer": "ipython3",
   "version": "3.8.8"
  }
 },
 "nbformat": 4,
 "nbformat_minor": 5
}
