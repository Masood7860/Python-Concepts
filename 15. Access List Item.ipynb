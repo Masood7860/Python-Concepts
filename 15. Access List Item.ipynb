{
 "cells": [
  {
   "cell_type": "markdown",
   "id": "675ca71b",
   "metadata": {},
   "source": [
    "# Python Access List Items"
   ]
  },
  {
   "cell_type": "markdown",
   "id": "73139174",
   "metadata": {},
   "source": [
    "# Access Items"
   ]
  },
  {
   "cell_type": "raw",
   "id": "73ac3a62",
   "metadata": {},
   "source": [
    "List items are indexed and you can access them by referring to the index number:\n",
    "\n",
    "Example\n",
    "Print the second item of the list:"
   ]
  },
  {
   "cell_type": "code",
   "execution_count": 2,
   "id": "6b89075f",
   "metadata": {},
   "outputs": [
    {
     "name": "stdout",
     "output_type": "stream",
     "text": [
      "banana\n"
     ]
    }
   ],
   "source": [
    "thislist = [\"apple\", \"banana\", \"cherry\"]\n",
    "print(thislist[1])"
   ]
  },
  {
   "cell_type": "code",
   "execution_count": null,
   "id": "dbee224e",
   "metadata": {},
   "outputs": [],
   "source": []
  }
 ],
 "metadata": {
  "kernelspec": {
   "display_name": "Python 3",
   "language": "python",
   "name": "python3"
  },
  "language_info": {
   "codemirror_mode": {
    "name": "ipython",
    "version": 3
   },
   "file_extension": ".py",
   "mimetype": "text/x-python",
   "name": "python",
   "nbconvert_exporter": "python",
   "pygments_lexer": "ipython3",
   "version": "3.8.8"
  }
 },
 "nbformat": 4,
 "nbformat_minor": 5
}
