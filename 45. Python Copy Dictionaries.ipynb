{
 "cells": [
  {
   "cell_type": "markdown",
   "id": "bdb7ba48",
   "metadata": {},
   "source": [
    "# Copy a Dictionary"
   ]
  },
  {
   "cell_type": "raw",
   "id": "3a6da8ae",
   "metadata": {},
   "source": [
    "You cannot copy a dictionary simply by typing dict2 = dict1, because: dict2 will only be a reference to dict1, and changes made in dict1 will automatically also be made in dict2."
   ]
  },
  {
   "cell_type": "raw",
   "id": "66e96404",
   "metadata": {},
   "source": [
    "There are ways to make a copy, one way is to use the built-in Dictionary method copy()"
   ]
  },
  {
   "cell_type": "code",
   "execution_count": 6,
   "id": "4c60fa57",
   "metadata": {},
   "outputs": [
    {
     "name": "stdout",
     "output_type": "stream",
     "text": [
      "{'brand': 'Ford', 'model': 'Mustang', 'year': 1964}\n"
     ]
    }
   ],
   "source": [
    "# Make a copy of a dictionary with the copy() method:\n",
    "\n",
    "thisdict = {\n",
    "    \"brand\": \"Ford\",\n",
    "    \"model\": \"Mustang\",\n",
    "    \"year\": 1964\n",
    "}\n",
    "mydict = thisdict.copy()\n",
    "print(mydict)"
   ]
  },
  {
   "cell_type": "raw",
   "id": "389e0a25",
   "metadata": {},
   "source": [
    "Another way to make a copy is to use the built-in function dict()."
   ]
  },
  {
   "cell_type": "code",
   "execution_count": 7,
   "id": "121b8116",
   "metadata": {},
   "outputs": [
    {
     "name": "stdout",
     "output_type": "stream",
     "text": [
      "{'brand': 'Ford', 'model': 'Mustang', 'year': 1964}\n"
     ]
    }
   ],
   "source": [
    "# Make a copy of a dictionary with the dict() function:\n",
    "thisdict = {\n",
    "    \"brand\": \"Ford\",\n",
    "    \"model\": \"Mustang\",\n",
    "    \"year\": 1964\n",
    "}\n",
    "mydict = dict(thisdict)\n",
    "print(mydict) "
   ]
  },
  {
   "cell_type": "code",
   "execution_count": null,
   "id": "63f67cd9",
   "metadata": {},
   "outputs": [],
   "source": []
  }
 ],
 "metadata": {
  "kernelspec": {
   "display_name": "Python 3",
   "language": "python",
   "name": "python3"
  },
  "language_info": {
   "codemirror_mode": {
    "name": "ipython",
    "version": 3
   },
   "file_extension": ".py",
   "mimetype": "text/x-python",
   "name": "python",
   "nbconvert_exporter": "python",
   "pygments_lexer": "ipython3",
   "version": "3.8.8"
  }
 },
 "nbformat": 4,
 "nbformat_minor": 5
}
