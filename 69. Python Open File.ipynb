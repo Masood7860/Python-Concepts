{
 "cells": [
  {
   "cell_type": "markdown",
   "id": "f63c299d",
   "metadata": {},
   "source": [
    "# Open a File on the Server"
   ]
  },
  {
   "cell_type": "raw",
   "id": "7adc157f",
   "metadata": {},
   "source": [
    "Assume we have the following file, located in the same folder as Python:"
   ]
  },
  {
   "cell_type": "raw",
   "id": "59d7d27b",
   "metadata": {},
   "source": [
    "demofile.txt\n",
    "\n",
    "\n",
    "Hello! Welcome to demofile.txt\n",
    "This file is for testing purposes.\n",
    "Good Luck!"
   ]
  },
  {
   "cell_type": "raw",
   "id": "919036af",
   "metadata": {},
   "source": [
    "To open the file, use the built-in open() function."
   ]
  },
  {
   "cell_type": "raw",
   "id": "ac6e674a",
   "metadata": {},
   "source": [
    "The open() function returns a file object, which has a read() method for reading the content of the file:"
   ]
  },
  {
   "cell_type": "code",
   "execution_count": 1,
   "id": "2a9db8aa",
   "metadata": {},
   "outputs": [
    {
     "name": "stdout",
     "output_type": "stream",
     "text": [
      "Hello! Welcome to demofile.txt\n",
      "This file is for testing purposes.\n",
      "Good Luck!\n"
     ]
    }
   ],
   "source": [
    "f = open(\"C:\\\\Users\\\\DELL\\\\Desktop\\\\demofile.txt\", \"r\")\n",
    "print(f.read())"
   ]
  },
  {
   "cell_type": "raw",
   "id": "33014fe5",
   "metadata": {},
   "source": [
    "If the file is located in a different location, you will have to specify the file path, like this:"
   ]
  },
  {
   "cell_type": "code",
   "execution_count": 2,
   "id": "3a64566d",
   "metadata": {},
   "outputs": [
    {
     "name": "stdout",
     "output_type": "stream",
     "text": [
      "Hello! Welcome to demofile.txt\n",
      "This file is for testing purposes.\n",
      "Good Luck!\n"
     ]
    }
   ],
   "source": [
    "# Open a file on a different location:\n",
    "\n",
    "f = open(\"C:\\\\Users\\\\DELL\\\\Desktop\\\\demofile.txt\", \"r\")\n",
    "print(f.read()) "
   ]
  },
  {
   "cell_type": "markdown",
   "id": "7b20daa1",
   "metadata": {},
   "source": [
    "# Read Only Parts of the File"
   ]
  },
  {
   "cell_type": "raw",
   "id": "8283fcbf",
   "metadata": {},
   "source": [
    "By default the read() method returns the whole text, but you can also specify how many characters you want to return:"
   ]
  },
  {
   "cell_type": "code",
   "execution_count": 3,
   "id": "fd86ce4d",
   "metadata": {},
   "outputs": [
    {
     "name": "stdout",
     "output_type": "stream",
     "text": [
      "Hello\n"
     ]
    }
   ],
   "source": [
    "# Return the 5 first characters of the file:\n",
    "\n",
    "f = open(\"C:\\\\Users\\\\DELL\\\\Desktop\\\\demofile.txt\", \"r\")\n",
    "print(f.read(5)) "
   ]
  },
  {
   "cell_type": "markdown",
   "id": "03961b14",
   "metadata": {},
   "source": [
    "# Read Lines"
   ]
  },
  {
   "cell_type": "raw",
   "id": "61fa1da6",
   "metadata": {},
   "source": [
    "You can return one line by using the readline() method:"
   ]
  },
  {
   "cell_type": "code",
   "execution_count": 4,
   "id": "cb2bf84d",
   "metadata": {},
   "outputs": [
    {
     "name": "stdout",
     "output_type": "stream",
     "text": [
      "Hello! Welcome to demofile.txt\n",
      "\n"
     ]
    }
   ],
   "source": [
    "# Read one line of the file:\n",
    "\n",
    "f = open(\"C:\\\\Users\\\\DELL\\\\Desktop\\\\demofile.txt\", \"r\")\n",
    "print(f.readline()) "
   ]
  },
  {
   "cell_type": "raw",
   "id": "c0a61787",
   "metadata": {},
   "source": [
    "By calling readline() two times, you can read the two first lines:"
   ]
  },
  {
   "cell_type": "code",
   "execution_count": 5,
   "id": "323641bd",
   "metadata": {},
   "outputs": [
    {
     "name": "stdout",
     "output_type": "stream",
     "text": [
      "Hello! Welcome to demofile.txt\n",
      "\n",
      "This file is for testing purposes.\n",
      "\n"
     ]
    }
   ],
   "source": [
    "# Read two lines of the file:\n",
    "\n",
    "f = open(\"C:\\\\Users\\\\DELL\\\\Desktop\\\\demofile.txt\", \"r\")\n",
    "print(f.readline())\n",
    "print(f.readline()) "
   ]
  },
  {
   "cell_type": "raw",
   "id": "c87c2028",
   "metadata": {},
   "source": [
    "By looping through the lines of the file, you can read the whole file, line by line:"
   ]
  },
  {
   "cell_type": "code",
   "execution_count": 6,
   "id": "dbad849f",
   "metadata": {},
   "outputs": [
    {
     "name": "stdout",
     "output_type": "stream",
     "text": [
      "Hello! Welcome to demofile.txt\n",
      "\n",
      "This file is for testing purposes.\n",
      "\n",
      "Good Luck!\n"
     ]
    }
   ],
   "source": [
    "# Loop through the file line by line:\n",
    "\n",
    "f = open(\"C:\\\\Users\\\\DELL\\\\Desktop\\\\demofile.txt\", \"r\")\n",
    "for x in f:\n",
    "    print(x) "
   ]
  },
  {
   "cell_type": "markdown",
   "id": "7f1bfe56",
   "metadata": {},
   "source": [
    "# Close Files"
   ]
  },
  {
   "cell_type": "raw",
   "id": "d963537f",
   "metadata": {},
   "source": [
    "It is a good practice to always close the file when you are done with it."
   ]
  },
  {
   "cell_type": "code",
   "execution_count": 7,
   "id": "27e41793",
   "metadata": {},
   "outputs": [
    {
     "name": "stdout",
     "output_type": "stream",
     "text": [
      "Hello! Welcome to demofile.txt\n",
      "\n"
     ]
    }
   ],
   "source": [
    "# Close the file when you are finish with it:\n",
    "\n",
    "f = open(\"C:\\\\Users\\\\DELL\\\\Desktop\\\\demofile.txt\", \"r\")\n",
    "print(f.readline())\n",
    "f.close() "
   ]
  },
  {
   "cell_type": "raw",
   "id": "5a54ea22",
   "metadata": {},
   "source": [
    "Note: You should always close your files, in some cases, due to buffering, changes made to a file may not show until you close the file."
   ]
  }
 ],
 "metadata": {
  "kernelspec": {
   "display_name": "Python 3",
   "language": "python",
   "name": "python3"
  },
  "language_info": {
   "codemirror_mode": {
    "name": "ipython",
    "version": 3
   },
   "file_extension": ".py",
   "mimetype": "text/x-python",
   "name": "python",
   "nbconvert_exporter": "python",
   "pygments_lexer": "ipython3",
   "version": "3.8.8"
  }
 },
 "nbformat": 4,
 "nbformat_minor": 5
}
