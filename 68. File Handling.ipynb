{
 "cells": [
  {
   "cell_type": "markdown",
   "id": "0c4523fd",
   "metadata": {},
   "source": [
    "# Python File Handling"
   ]
  },
  {
   "cell_type": "markdown",
   "id": "0f36ffa6",
   "metadata": {},
   "source": [
    "# Python File Open"
   ]
  },
  {
   "cell_type": "raw",
   "id": "17de9510",
   "metadata": {},
   "source": [
    "File handling is an important part of any web application."
   ]
  },
  {
   "cell_type": "raw",
   "id": "4891d778",
   "metadata": {},
   "source": [
    "Python has several functions for creating, reading, updating, and deleting files."
   ]
  },
  {
   "cell_type": "markdown",
   "id": "d8de51a1",
   "metadata": {},
   "source": [
    "# File Handling"
   ]
  },
  {
   "cell_type": "raw",
   "id": "12ed1bad",
   "metadata": {},
   "source": [
    "The key function for working with files in Python is the open() function."
   ]
  },
  {
   "cell_type": "raw",
   "id": "3a85a9c2",
   "metadata": {},
   "source": [
    "The open() function takes two parameters; filename, and mode."
   ]
  },
  {
   "cell_type": "raw",
   "id": "715b6890",
   "metadata": {},
   "source": [
    "There are four different methods (modes) for opening a file:"
   ]
  },
  {
   "cell_type": "raw",
   "id": "c1a5947c",
   "metadata": {},
   "source": [
    "\"r\" - Read - Default value. Opens a file for reading, error if the file does not exist\n",
    "\n",
    "\"a\" - Append - Opens a file for appending, creates the file if it does not exist\n",
    "\n",
    "\"w\" - Write - Opens a file for writing, creates the file if it does not exist\n",
    "\n",
    "\"x\" - Create - Creates the specified file, returns an error if the file exists"
   ]
  },
  {
   "cell_type": "raw",
   "id": "bdb220e0",
   "metadata": {},
   "source": [
    "In addition you can specify if the file should be handled as binary or text mode"
   ]
  },
  {
   "cell_type": "raw",
   "id": "597109fd",
   "metadata": {},
   "source": [
    "\"t\" - Text - Default value. Text mode\n",
    "\n",
    "\"b\" - Binary - Binary mode (e.g. images)"
   ]
  },
  {
   "cell_type": "markdown",
   "id": "907ebd2e",
   "metadata": {},
   "source": [
    "# Syntax"
   ]
  },
  {
   "cell_type": "raw",
   "id": "23aa8059",
   "metadata": {},
   "source": [
    "To open a file for reading it is enough to specify the name of the file:"
   ]
  },
  {
   "cell_type": "code",
   "execution_count": 1,
   "id": "fb0885ff",
   "metadata": {},
   "outputs": [
    {
     "data": {
      "text/plain": [
       "<_io.TextIOWrapper name='C:\\\\Users\\\\DELL\\\\Desktop\\\\demofile.txt' mode='r' encoding='cp1252'>"
      ]
     },
     "execution_count": 1,
     "metadata": {},
     "output_type": "execute_result"
    }
   ],
   "source": [
    "f = open(\"C:\\\\Users\\\\DELL\\\\Desktop\\\\demofile.txt\")\n",
    "f"
   ]
  },
  {
   "cell_type": "raw",
   "id": "f3587c04",
   "metadata": {},
   "source": [
    "The code above is the same as:"
   ]
  },
  {
   "cell_type": "code",
   "execution_count": 2,
   "id": "1edef5c3",
   "metadata": {},
   "outputs": [
    {
     "data": {
      "text/plain": [
       "<_io.TextIOWrapper name='C:\\\\Users\\\\DELL\\\\Desktop\\\\demofile.txt' mode='rt' encoding='cp1252'>"
      ]
     },
     "execution_count": 2,
     "metadata": {},
     "output_type": "execute_result"
    }
   ],
   "source": [
    "f = open(\"C:\\\\Users\\\\DELL\\\\Desktop\\\\demofile.txt\", \"rt\")\n",
    "f"
   ]
  },
  {
   "cell_type": "raw",
   "id": "6e511c59",
   "metadata": {},
   "source": [
    "Because \"r\" for read, and \"t\" for text are the default values, you do not need to specify them."
   ]
  },
  {
   "cell_type": "raw",
   "id": "21837a0b",
   "metadata": {},
   "source": [
    "Note: Make sure the file exists, or else you will get an error."
   ]
  }
 ],
 "metadata": {
  "kernelspec": {
   "display_name": "Python 3",
   "language": "python",
   "name": "python3"
  },
  "language_info": {
   "codemirror_mode": {
    "name": "ipython",
    "version": 3
   },
   "file_extension": ".py",
   "mimetype": "text/x-python",
   "name": "python",
   "nbconvert_exporter": "python",
   "pygments_lexer": "ipython3",
   "version": "3.8.8"
  }
 },
 "nbformat": 4,
 "nbformat_minor": 5
}
