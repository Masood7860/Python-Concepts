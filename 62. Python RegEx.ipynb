{
 "cells": [
  {
   "cell_type": "markdown",
   "id": "32b14f4f",
   "metadata": {},
   "source": [
    "# Python RegEx"
   ]
  },
  {
   "cell_type": "raw",
   "id": "afde316c",
   "metadata": {},
   "source": [
    "A RegEx, or Regular Expression, is a sequence of characters that forms a search pattern."
   ]
  },
  {
   "cell_type": "raw",
   "id": "e9854f86",
   "metadata": {},
   "source": [
    "RegEx can be used to check if a string contains the specified search pattern."
   ]
  },
  {
   "cell_type": "markdown",
   "id": "58186c36",
   "metadata": {},
   "source": [
    "# RegEx Module"
   ]
  },
  {
   "cell_type": "raw",
   "id": "f19cdfdf",
   "metadata": {},
   "source": [
    "Python has a built-in package called re, which can be used to work with Regular Expressions."
   ]
  },
  {
   "cell_type": "code",
   "execution_count": 1,
   "id": "0d5a3ac7",
   "metadata": {},
   "outputs": [],
   "source": [
    "# Import the re module:\n",
    "    \n",
    "import re"
   ]
  },
  {
   "cell_type": "markdown",
   "id": "186d5fa2",
   "metadata": {},
   "source": [
    "# RegEx in Python"
   ]
  },
  {
   "cell_type": "raw",
   "id": "48a07bc4",
   "metadata": {},
   "source": [
    "When you have imported the re module, you can start using regular expressions:"
   ]
  },
  {
   "cell_type": "code",
   "execution_count": 2,
   "id": "ab2d1ae4",
   "metadata": {},
   "outputs": [],
   "source": [
    "# Search the string to see if it starts with \"The\" and ends with \"Spain\":\n",
    "\n",
    "import re\n",
    "\n",
    "txt = \"The rain in Spain\"\n",
    "x = re.search(\"^The.*Spain$\", txt) "
   ]
  },
  {
   "cell_type": "code",
   "execution_count": 3,
   "id": "a0fe31e0",
   "metadata": {},
   "outputs": [
    {
     "name": "stdout",
     "output_type": "stream",
     "text": [
      "YES! We have a match!\n"
     ]
    }
   ],
   "source": [
    "import re\n",
    "\n",
    "#Check if the string starts with \"The\" and ends with \"Spain\":\n",
    "\n",
    "txt = \"The rain in Spain\"\n",
    "x = re.search(\"^The.*Spain$\", txt)\n",
    "\n",
    "if x:\n",
    "  print(\"YES! We have a match!\")\n",
    "else:\n",
    "  print(\"No match\")"
   ]
  },
  {
   "cell_type": "markdown",
   "id": "03bfd114",
   "metadata": {},
   "source": [
    "# RegEx Functions"
   ]
  },
  {
   "cell_type": "raw",
   "id": "3e70d327",
   "metadata": {},
   "source": [
    "The re module offers a set of functions that allows us to search a string for a match:"
   ]
  },
  {
   "cell_type": "raw",
   "id": "b395d31f",
   "metadata": {},
   "source": [
    "Function \tDescription\n",
    "findall \tReturns a list containing all matches\n",
    "search \tReturns a Match object if there is a match anywhere in the string\n",
    "split \tReturns a list where the string has been split at each match\n",
    "sub \tReplaces one or many matches with a string"
   ]
  },
  {
   "cell_type": "markdown",
   "id": "ba4d1ba5",
   "metadata": {},
   "source": [
    "# Metacharacters"
   ]
  },
  {
   "cell_type": "raw",
   "id": "209e7f24",
   "metadata": {},
   "source": [
    "Metacharacters are characters with a special meaning:"
   ]
  },
  {
   "cell_type": "code",
   "execution_count": 1,
   "id": "458b1c0c",
   "metadata": {},
   "outputs": [
    {
     "name": "stdout",
     "output_type": "stream",
     "text": [
      "['h', 'e', 'a', 'i', 'i', 'a', 'i']\n"
     ]
    }
   ],
   "source": [
    "# Character \t [] Description \t A set of characters Example \t \"[a-m]\"\n",
    "\n",
    "import re\n",
    "\n",
    "txt = \"The rain in Spain\"\n",
    "\n",
    "#Find all lower case characters alphabetically between \"a\" and \"m\":\n",
    "\n",
    "x = re.findall(\"[a-m]\", txt)\n",
    "print(x)"
   ]
  },
  {
   "cell_type": "code",
   "execution_count": 2,
   "id": "d4ea2087",
   "metadata": {},
   "outputs": [
    {
     "name": "stdout",
     "output_type": "stream",
     "text": [
      "['5', '9']\n"
     ]
    }
   ],
   "source": [
    "# Character \t \\ Description \t Signals a special sequence (can also be used to escape special characters) Example \t \"\\d\"\n",
    "\n",
    "import re\n",
    "\n",
    "txt = \"That will be 59 dollars\"\n",
    "\n",
    "#Find all digit characters:\n",
    "\n",
    "x = re.findall(\"\\d\", txt)\n",
    "print(x)"
   ]
  },
  {
   "cell_type": "code",
   "execution_count": 3,
   "id": "368a324f",
   "metadata": {},
   "outputs": [
    {
     "name": "stdout",
     "output_type": "stream",
     "text": [
      "['hello']\n"
     ]
    }
   ],
   "source": [
    "# Character \t . Description \tAny character (except newline character) Example \t\"he..o\"\n",
    "\n",
    "import re\n",
    "\n",
    "txt = \"hello planet\"\n",
    "\n",
    "#Search for a sequence that starts with \"he\", followed by two (any) characters, and an \"o\":\n",
    "\n",
    "x = re.findall(\"he..o\", txt)\n",
    "print(x)"
   ]
  },
  {
   "cell_type": "code",
   "execution_count": 6,
   "id": "dcfa9d82",
   "metadata": {},
   "outputs": [
    {
     "name": "stdout",
     "output_type": "stream",
     "text": [
      "Yes, the string starts with 'hello'\n"
     ]
    }
   ],
   "source": [
    "# Character \t ^ Description  \t Starts with Example \t\"^hello\"\n",
    "\n",
    "import re\n",
    "\n",
    "txt = \"hello planet\"\n",
    "\n",
    "#Check if the string starts with 'hello':\n",
    "\n",
    "x = re.findall(\"^hello\", txt)\n",
    "if x:\n",
    "  print(\"Yes, the string starts with 'hello'\")\n",
    "else:\n",
    "  print(\"No match\")"
   ]
  },
  {
   "cell_type": "code",
   "execution_count": 8,
   "id": "07763c24",
   "metadata": {},
   "outputs": [
    {
     "name": "stdout",
     "output_type": "stream",
     "text": [
      "Yes, the string ends with 'planet'\n"
     ]
    }
   ],
   "source": [
    "# Character \t $ Description  \t Ends with Example \t\"planet$\"\n",
    "\n",
    "import re\n",
    "\n",
    "txt = \"hello planet\"\n",
    "\n",
    "\n",
    "# Check if the string ends with 'planet':\n",
    "\n",
    "x = re.findall(\"planet$\", txt)\n",
    "if x:\n",
    "  print(\"Yes, the string ends with 'planet'\")\n",
    "else:\n",
    "  print(\"No match\")"
   ]
  },
  {
   "cell_type": "code",
   "execution_count": 9,
   "id": "dd0002d5",
   "metadata": {},
   "outputs": [
    {
     "name": "stdout",
     "output_type": "stream",
     "text": [
      "['hello']\n"
     ]
    }
   ],
   "source": [
    "# Character \t * Description  \t Zero or more occurrences Example \t\"he.*o\"\n",
    "\n",
    "import re\n",
    "\n",
    "txt = \"hello planet\"\n",
    "\n",
    "#Search for a sequence that starts with \"he\", followed by 0 or more  (any) characters, and an \"o\":\n",
    "\n",
    "x = re.findall(\"he.*o\", txt)\n",
    "\n",
    "print(x)"
   ]
  },
  {
   "cell_type": "code",
   "execution_count": 10,
   "id": "c7829d10",
   "metadata": {},
   "outputs": [
    {
     "name": "stdout",
     "output_type": "stream",
     "text": [
      "['hello']\n"
     ]
    }
   ],
   "source": [
    "# Character \t + Description  \t Zero or more occurrences Example \t\"he.+o\"\n",
    "\n",
    "import re\n",
    "\n",
    "txt = \"hello planet\"\n",
    "\n",
    "#Search for a sequence that starts with \"he\", followed by 1 or more  (any) characters, and an \"o\":\n",
    "\n",
    "x = re.findall(\"he.+o\", txt)\n",
    "\n",
    "print(x)"
   ]
  },
  {
   "cell_type": "code",
   "execution_count": 11,
   "id": "e7973639",
   "metadata": {},
   "outputs": [
    {
     "name": "stdout",
     "output_type": "stream",
     "text": [
      "[]\n"
     ]
    }
   ],
   "source": [
    "# Character \t ? Description  \t Zero or one occurrences Example \t\"he.?o\"\n",
    "\n",
    "import re\n",
    "\n",
    "txt = \"hello planet\"\n",
    "\n",
    "#Search for a sequence that starts with \"he\", followed by 0 or 1  (any) character, and an \"o\":\n",
    "\n",
    "x = re.findall(\"he.?o\", txt)\n",
    "\n",
    "print(x)\n",
    "\n",
    "#This time we got no match, because there were not zero, not one, but two characters between \"he\" and the \"o\""
   ]
  },
  {
   "cell_type": "code",
   "execution_count": 12,
   "id": "bd776ec8",
   "metadata": {},
   "outputs": [
    {
     "name": "stdout",
     "output_type": "stream",
     "text": [
      "['hello']\n"
     ]
    }
   ],
   "source": [
    "# Character \t {} Description  \t Exactly the specified number of occurrences Example \t \"he.{2}o\"\n",
    "\n",
    "import re\n",
    "\n",
    "txt = \"hello planet\"\n",
    "\n",
    "#Search for a sequence that starts with \"he\", followed excactly 2 (any) characters, and an \"o\":\n",
    "\n",
    "x = re.findall(\"he.{2}o\", txt)\n",
    "\n",
    "print(x)"
   ]
  },
  {
   "cell_type": "code",
   "execution_count": 13,
   "id": "919aae40",
   "metadata": {},
   "outputs": [
    {
     "name": "stdout",
     "output_type": "stream",
     "text": [
      "['falls']\n",
      "Yes, there is at least one match!\n"
     ]
    }
   ],
   "source": [
    "# Character \t ! Description  \t Either or Example \t \"falls|stays\"\n",
    "\n",
    "import re\n",
    "\n",
    "txt = \"The rain in Spain falls mainly in the plain!\"\n",
    "\n",
    "#Check if the string contains either \"falls\" or \"stays\":\n",
    "\n",
    "x = re.findall(\"falls|stays\", txt)\n",
    "\n",
    "print(x)\n",
    "\n",
    "if x:\n",
    "  print(\"Yes, there is at least one match!\")\n",
    "else:\n",
    "  print(\"No match\")"
   ]
  },
  {
   "cell_type": "code",
   "execution_count": 14,
   "id": "1a63f8ed",
   "metadata": {},
   "outputs": [],
   "source": [
    "# Character \t () Description  \t Capture and group Example \t "
   ]
  },
  {
   "cell_type": "markdown",
   "id": "97020042",
   "metadata": {},
   "source": [
    "# Special Sequences"
   ]
  },
  {
   "cell_type": "raw",
   "id": "f5ec796d",
   "metadata": {},
   "source": [
    "A special sequence is a \\ followed by one of the characters in the list below, and has a special meaning:"
   ]
  },
  {
   "cell_type": "code",
   "execution_count": 15,
   "id": "ebb1cfd7",
   "metadata": {},
   "outputs": [
    {
     "name": "stdout",
     "output_type": "stream",
     "text": [
      "['The']\n",
      "Yes, there is a match!\n"
     ]
    }
   ],
   "source": [
    "# Character \t \\A Description \t Returns a match if the specified characters are at the beginning of the string \n",
    "# Example \t \"\\AThe\"\n",
    "\n",
    "import re\n",
    "\n",
    "txt = \"The rain in Spain\"\n",
    "\n",
    "#Check if the string starts with \"The\":\n",
    "\n",
    "x = re.findall(\"\\AThe\", txt)\n",
    "\n",
    "print(x)\n",
    "\n",
    "if x:\n",
    "  print(\"Yes, there is a match!\")\n",
    "else:\n",
    "  print(\"No match\")"
   ]
  },
  {
   "cell_type": "code",
   "execution_count": 19,
   "id": "df3bb58b",
   "metadata": {},
   "outputs": [
    {
     "name": "stdout",
     "output_type": "stream",
     "text": [
      "[]\n",
      "No match\n"
     ]
    }
   ],
   "source": [
    "# Character \t \\b Description \t Returns a match where the specified characters are at the beginning or at the end of a word\n",
    "# Example \t r\"\\bain\"\n",
    "\n",
    "import re\n",
    "\n",
    "txt = \"The rain in Spain\"\n",
    "\n",
    "#Check if \"ain\" is present at the beginning of a WORD:\n",
    "\n",
    "x = re.findall(r\"\\bain\", txt)\n",
    "\n",
    "print(x)\n",
    "\n",
    "if x:\n",
    "  print(\"Yes, there is at least one match!\")\n",
    "else:\n",
    "  print(\"No match\")"
   ]
  },
  {
   "cell_type": "code",
   "execution_count": 17,
   "id": "10f3622e",
   "metadata": {},
   "outputs": [
    {
     "name": "stdout",
     "output_type": "stream",
     "text": [
      "['ain', 'ain']\n",
      "Yes, there is at least one match!\n"
     ]
    }
   ],
   "source": [
    "# Character \t \\b Description \t the \"r\" in the beginning is making sure that the string is being treated as a \"raw string\"\n",
    "# Example \t r\"ain\\b\"\n",
    "\n",
    "import re\n",
    "\n",
    "txt = \"The rain in Spain\"\n",
    "\n",
    "#Check if \"ain\" is present at the end of a WORD:\n",
    "\n",
    "x = re.findall(r\"ain\\b\", txt)\n",
    "\n",
    "print(x)\n",
    "\n",
    "if x:\n",
    "  print(\"Yes, there is at least one match!\")\n",
    "else:\n",
    "  print(\"No match\")"
   ]
  },
  {
   "cell_type": "code",
   "execution_count": 18,
   "id": "276ebb83",
   "metadata": {},
   "outputs": [
    {
     "name": "stdout",
     "output_type": "stream",
     "text": [
      "['ain', 'ain']\n",
      "Yes, there is at least one match!\n"
     ]
    }
   ],
   "source": [
    "# Character \t \\B Description \t Returns a match where the specified characters are present, but NOT at the beginning \n",
    "# (or at the end) of a word \n",
    "# Example \t r\"\\Bain\"\n",
    "\n",
    "import re\n",
    "\n",
    "txt = \"The rain in Spain\"\n",
    "\n",
    "#Check if \"ain\" is present, but NOT at the beginning of a word:\n",
    "\n",
    "x = re.findall(r\"\\Bain\", txt)\n",
    "\n",
    "print(x)\n",
    "\n",
    "if x:\n",
    "  print(\"Yes, there is at least one match!\")\n",
    "else:\n",
    "  print(\"No match\")"
   ]
  },
  {
   "cell_type": "code",
   "execution_count": 20,
   "id": "62aea84b",
   "metadata": {},
   "outputs": [
    {
     "name": "stdout",
     "output_type": "stream",
     "text": [
      "[]\n",
      "No match\n"
     ]
    }
   ],
   "source": [
    "# Character \t \\B Description \t the \"r\" in the beginning is making sure that the string is being treated as a \"raw string\" \n",
    "# Example \t r\"ain\\B\"\n",
    "\n",
    "import re\n",
    "\n",
    "txt = \"The rain in Spain\"\n",
    "\n",
    "#Check if \"ain\" is present, but NOT at the end of a word:\n",
    "\n",
    "x = re.findall(r\"ain\\B\", txt)\n",
    "\n",
    "print(x)\n",
    "\n",
    "if x:\n",
    "  print(\"Yes, there is at least one match!\")\n",
    "else:\n",
    "  print(\"No match\")"
   ]
  },
  {
   "cell_type": "code",
   "execution_count": 21,
   "id": "35d7675a",
   "metadata": {},
   "outputs": [
    {
     "name": "stdout",
     "output_type": "stream",
     "text": [
      "[]\n",
      "No match\n"
     ]
    }
   ],
   "source": [
    "# Character \t \\d Description \t Returns a match where the string contains digits (numbers from 0-9) Example \t \"\\d\"\n",
    "\n",
    "import re\n",
    "\n",
    "txt = \"The rain in Spain\"\n",
    "\n",
    "#Check if the string contains any digits (numbers from 0-9):\n",
    "\n",
    "x = re.findall(\"\\d\", txt)\n",
    "\n",
    "print(x)\n",
    "\n",
    "if x:\n",
    "  print(\"Yes, there is at least one match!\")\n",
    "else:\n",
    "  print(\"No match\")"
   ]
  },
  {
   "cell_type": "code",
   "execution_count": 22,
   "id": "20752e1d",
   "metadata": {},
   "outputs": [
    {
     "name": "stdout",
     "output_type": "stream",
     "text": [
      "['T', 'h', 'e', ' ', 'r', 'a', 'i', 'n', ' ', 'i', 'n', ' ', 'S', 'p', 'a', 'i', 'n']\n",
      "Yes, there is at least one match!\n"
     ]
    }
   ],
   "source": [
    "# Character \t \\D Description \t Returns a match where the string DOES NOT contain digits Example \t \"\\D\"\n",
    "\n",
    "import re\n",
    "\n",
    "txt = \"The rain in Spain\"\n",
    "\n",
    "#Return a match at every no-digit character:\n",
    "\n",
    "x = re.findall(\"\\D\", txt)\n",
    "\n",
    "print(x)\n",
    "\n",
    "if x:\n",
    "  print(\"Yes, there is at least one match!\")\n",
    "else:\n",
    "  print(\"No match\")"
   ]
  },
  {
   "cell_type": "code",
   "execution_count": 27,
   "id": "a37e86e5",
   "metadata": {},
   "outputs": [
    {
     "name": "stdout",
     "output_type": "stream",
     "text": [
      "[' ', ' ', ' ']\n",
      "Yes, there is at least one match!\n"
     ]
    }
   ],
   "source": [
    "# Character \t \\s Description \t Returns a match where the string contains a white space character Example \t \"\\s\"\n",
    "\n",
    "import re\n",
    "\n",
    "txt = \"The rain in Spain\"\n",
    "\n",
    "#Return a match at every white-space character:\n",
    "\n",
    "x = re.findall(\"\\s\", txt)\n",
    "\n",
    "print(x)\n",
    "\n",
    "if x:\n",
    "  print(\"Yes, there is at least one match!\")\n",
    "else:\n",
    "  print(\"No match\")"
   ]
  },
  {
   "cell_type": "code",
   "execution_count": 28,
   "id": "60f57bd7",
   "metadata": {},
   "outputs": [
    {
     "name": "stdout",
     "output_type": "stream",
     "text": [
      "['T', 'h', 'e', 'r', 'a', 'i', 'n', 'i', 'n', 'S', 'p', 'a', 'i', 'n']\n",
      "Yes, there is at least one match!\n"
     ]
    }
   ],
   "source": [
    "# Character \t \\S Description \t Returns a match where the string DOES NOT contain a white space character Example \t \"\\S\"\n",
    "\n",
    "import re\n",
    "\n",
    "txt = \"The rain in Spain\"\n",
    "\n",
    "#Return a match at every NON white-space character:\n",
    "\n",
    "x = re.findall(\"\\S\", txt)\n",
    "\n",
    "print(x)\n",
    "\n",
    "if x:\n",
    "  print(\"Yes, there is at least one match!\")\n",
    "else:\n",
    "  print(\"No match\")"
   ]
  },
  {
   "cell_type": "code",
   "execution_count": 29,
   "id": "c68a1d90",
   "metadata": {},
   "outputs": [
    {
     "name": "stdout",
     "output_type": "stream",
     "text": [
      "['T', 'h', 'e', 'r', 'a', 'i', 'n', 'i', 'n', 'S', 'p', 'a', 'i', 'n']\n",
      "Yes, there is at least one match!\n"
     ]
    }
   ],
   "source": [
    "# Character \t \\w Description \t Returns a match where the string contains any word characters (characters from a to Z, \n",
    "# digits from 0-9, and the underscore _ character) Example \t \"\\w\"\n",
    "\n",
    "import re\n",
    "\n",
    "txt = \"The rain in Spain\"\n",
    "\n",
    "#Return a match at every word character (characters from a to Z, digits from 0-9, and the underscore _ character):\n",
    "\n",
    "x = re.findall(\"\\w\", txt)\n",
    "\n",
    "print(x)\n",
    "\n",
    "if x:\n",
    "  print(\"Yes, there is at least one match!\")\n",
    "else:\n",
    "  print(\"No match\")"
   ]
  },
  {
   "cell_type": "code",
   "execution_count": 30,
   "id": "71959918",
   "metadata": {},
   "outputs": [
    {
     "name": "stdout",
     "output_type": "stream",
     "text": [
      "[' ', ' ', ' ']\n",
      "Yes, there is at least one match!\n"
     ]
    }
   ],
   "source": [
    "# Character \t \\W Description \t Returns a match where the string DOES NOT contain any word characters Example \t \"\\W\"\n",
    "\n",
    "import re\n",
    "\n",
    "txt = \"The rain in Spain\"\n",
    "\n",
    "#Return a match at every NON word character (characters NOT between a and Z. Like \"!\", \"?\" white-space etc.):\n",
    "\n",
    "x = re.findall(\"\\W\", txt)\n",
    "\n",
    "print(x)\n",
    "\n",
    "if x:\n",
    "  print(\"Yes, there is at least one match!\")\n",
    "else:\n",
    "  print(\"No match\")"
   ]
  },
  {
   "cell_type": "code",
   "execution_count": 31,
   "id": "c952261d",
   "metadata": {},
   "outputs": [
    {
     "name": "stdout",
     "output_type": "stream",
     "text": [
      "['Spain']\n",
      "Yes, there is a match!\n"
     ]
    }
   ],
   "source": [
    "# Character \t \\z Description \t Returns a match if the specified characters are at the end of the string Example \t \"Spain\\Z\"\n",
    "\n",
    "import re\n",
    "\n",
    "txt = \"The rain in Spain\"\n",
    "\n",
    "#Check if the string ends with \"Spain\":\n",
    "\n",
    "x = re.findall(\"Spain\\Z\", txt)\n",
    "\n",
    "print(x)\n",
    "\n",
    "if x:\n",
    "  print(\"Yes, there is a match!\")\n",
    "else:\n",
    "  print(\"No match\")"
   ]
  },
  {
   "cell_type": "markdown",
   "id": "e82b82f2",
   "metadata": {},
   "source": [
    "# Sets"
   ]
  },
  {
   "cell_type": "raw",
   "id": "ba61c719",
   "metadata": {},
   "source": [
    "A set is a set of characters inside a pair of square brackets [] with a special meaning:"
   ]
  },
  {
   "cell_type": "code",
   "execution_count": 33,
   "id": "93d81f26",
   "metadata": {},
   "outputs": [
    {
     "name": "stdout",
     "output_type": "stream",
     "text": [
      "['r', 'a', 'n', 'n', 'a', 'n']\n",
      "Yes, there is at least one match!\n"
     ]
    }
   ],
   "source": [
    "# Set \t [arn] Description \t Returns a match where one of the specified characters (a, r, or n) is present\n",
    "\n",
    "import re\n",
    "\n",
    "txt = \"The rain in Spain\"\n",
    "\n",
    "#Check if the string has any a, r, or n characters:\n",
    "\n",
    "x = re.findall(\"[arn]\", txt)\n",
    "\n",
    "print(x)\n",
    "\n",
    "if x:\n",
    "    print(\"Yes, there is at least one match!\")\n",
    "else:\n",
    "    print(\"No match\")"
   ]
  },
  {
   "cell_type": "code",
   "execution_count": 34,
   "id": "2c1e1bbf",
   "metadata": {},
   "outputs": [
    {
     "name": "stdout",
     "output_type": "stream",
     "text": [
      "['h', 'e', 'a', 'i', 'n', 'i', 'n', 'a', 'i', 'n']\n",
      "Yes, there is at least one match!\n"
     ]
    }
   ],
   "source": [
    "# Set \t [a-n] Description \t Returns a match for any lower case character, alphabetically between a and n\n",
    "\n",
    "import re\n",
    "\n",
    "txt = \"The rain in Spain\"\n",
    "\n",
    "#Check if the string has any characters between a and n:\n",
    "\n",
    "x = re.findall(\"[a-n]\", txt)\n",
    "\n",
    "print(x)\n",
    "\n",
    "if x:\n",
    "  print(\"Yes, there is at least one match!\")\n",
    "else:\n",
    "  print(\"No match\")"
   ]
  },
  {
   "cell_type": "code",
   "execution_count": 35,
   "id": "b765d586",
   "metadata": {},
   "outputs": [
    {
     "name": "stdout",
     "output_type": "stream",
     "text": [
      "['T', 'h', 'e', ' ', 'i', ' ', 'i', ' ', 'S', 'p', 'i']\n",
      "Yes, there is at least one match!\n"
     ]
    }
   ],
   "source": [
    "# Set \t [^arn] Description \t Returns a match for any character EXCEPT a, r, and n\n",
    "\n",
    "import re\n",
    "\n",
    "txt = \"The rain in Spain\"\n",
    "\n",
    "#Check if the string has other characters than a, r, or n:\n",
    "\n",
    "x = re.findall(\"[^arn]\", txt)\n",
    "\n",
    "print(x)\n",
    "\n",
    "if x:\n",
    "    print(\"Yes, there is at least one match!\")\n",
    "else:\n",
    "    print(\"No match\")"
   ]
  },
  {
   "cell_type": "code",
   "execution_count": 36,
   "id": "462116d9",
   "metadata": {},
   "outputs": [
    {
     "name": "stdout",
     "output_type": "stream",
     "text": [
      "[]\n",
      "No match\n"
     ]
    }
   ],
   "source": [
    "# Set \t [0123] Description \t Returns a match where any of the specified digits (0, 1, 2, or 3) are present\n",
    "\n",
    "import re\n",
    "\n",
    "txt = \"The rain in Spain\"\n",
    "\n",
    "#Check if the string has any 0, 1, 2, or 3 digits:\n",
    "\n",
    "x = re.findall(\"[0123]\", txt)\n",
    "\n",
    "print(x)\n",
    "\n",
    "if x:\n",
    "  print(\"Yes, there is at least one match!\")\n",
    "else:\n",
    "  print(\"No match\")"
   ]
  },
  {
   "cell_type": "code",
   "execution_count": 37,
   "id": "3d78c370",
   "metadata": {},
   "outputs": [
    {
     "name": "stdout",
     "output_type": "stream",
     "text": [
      "['8', '1', '1', '4', '5']\n",
      "Yes, there is at least one match!\n"
     ]
    }
   ],
   "source": [
    "# Set \t [0-9] Description \t Returns a match for any digit between 0 and 9\n",
    "\n",
    "import re\n",
    "\n",
    "txt = \"8 times before 11:45 AM\"\n",
    "\n",
    "#Check if the string has any digits:\n",
    "\n",
    "x = re.findall(\"[0-9]\", txt)\n",
    "\n",
    "print(x)\n",
    "\n",
    "if x:\n",
    "  print(\"Yes, there is at least one match!\")\n",
    "else:\n",
    "  print(\"No match\")"
   ]
  },
  {
   "cell_type": "code",
   "execution_count": 38,
   "id": "db313f4a",
   "metadata": {},
   "outputs": [
    {
     "name": "stdout",
     "output_type": "stream",
     "text": [
      "['11', '45']\n",
      "Yes, there is at least one match!\n"
     ]
    }
   ],
   "source": [
    "# Set \t [0-5][0-9] Description \t Returns a match for any two-digit numbers from 00 and 59\n",
    "\n",
    "import re\n",
    "\n",
    "txt = \"8 times before 11:45 AM\"\n",
    "\n",
    "#Check if the string has any two-digit numbers, from 00 to 59:\n",
    "\n",
    "x = re.findall(\"[0-5][0-9]\", txt)\n",
    "\n",
    "print(x)\n",
    "\n",
    "if x:\n",
    "    print(\"Yes, there is at least one match!\")\n",
    "else:\n",
    "    print(\"No match\")"
   ]
  },
  {
   "cell_type": "code",
   "execution_count": 39,
   "id": "44fab433",
   "metadata": {},
   "outputs": [
    {
     "name": "stdout",
     "output_type": "stream",
     "text": [
      "['t', 'i', 'm', 'e', 's', 'b', 'e', 'f', 'o', 'r', 'e', 'A', 'M']\n",
      "Yes, there is at least one match!\n"
     ]
    }
   ],
   "source": [
    "# Set \t [a-zA-Z] Description \t Returns a match for any character alphabetically between a and z, lower case OR upper case\n",
    "\n",
    "import re\n",
    "\n",
    "txt = \"8 times before 11:45 AM\"\n",
    "\n",
    "#Check if the string has any characters from a to z lower case, and A to Z upper case:\n",
    "\n",
    "x = re.findall(\"[a-zA-Z]\", txt)\n",
    "\n",
    "print(x)\n",
    "\n",
    "if x:\n",
    "    print(\"Yes, there is at least one match!\")\n",
    "else:\n",
    "    print(\"No match\")"
   ]
  },
  {
   "cell_type": "code",
   "execution_count": 40,
   "id": "0d6fe20b",
   "metadata": {},
   "outputs": [
    {
     "name": "stdout",
     "output_type": "stream",
     "text": [
      "[]\n",
      "No match\n"
     ]
    }
   ],
   "source": [
    "# Set \t [+] Description \t In sets, +, *, ., |, (), $,{} has no special meaning, so [+] means: return a match for any + \n",
    "# character in the string\n",
    "\n",
    "import re\n",
    "\n",
    "txt = \"8 times before 11:45 AM\"\n",
    "\n",
    "#Check if the string has any + characters:\n",
    "\n",
    "x = re.findall(\"[+]\", txt)\n",
    "\n",
    "print(x)\n",
    "\n",
    "if x:\n",
    "    print(\"Yes, there is at least one match!\")\n",
    "else:\n",
    "    print(\"No match\")"
   ]
  },
  {
   "cell_type": "markdown",
   "id": "c366735c",
   "metadata": {},
   "source": [
    "# The findall() Function"
   ]
  },
  {
   "cell_type": "raw",
   "id": "1f4a879c",
   "metadata": {},
   "source": [
    "The findall() function returns a list containing all matches."
   ]
  },
  {
   "cell_type": "code",
   "execution_count": 41,
   "id": "65951cd4",
   "metadata": {},
   "outputs": [
    {
     "name": "stdout",
     "output_type": "stream",
     "text": [
      "['ai', 'ai']\n"
     ]
    }
   ],
   "source": [
    "# Print a list of all matches:\n",
    "\n",
    "import re\n",
    "\n",
    "txt = \"The rain in Spain\"\n",
    "x = re.findall(\"ai\", txt)\n",
    "print(x) "
   ]
  },
  {
   "cell_type": "raw",
   "id": "bfdc15fe",
   "metadata": {},
   "source": [
    "The list contains the matches in the order they are found."
   ]
  },
  {
   "cell_type": "raw",
   "id": "8c8bacb1",
   "metadata": {},
   "source": [
    "If no matches are found, an empty list is returned:"
   ]
  },
  {
   "cell_type": "code",
   "execution_count": 43,
   "id": "eb930f99",
   "metadata": {},
   "outputs": [
    {
     "name": "stdout",
     "output_type": "stream",
     "text": [
      "[]\n"
     ]
    }
   ],
   "source": [
    "#Return an empty list if no match was found:\n",
    "\n",
    "import re\n",
    "\n",
    "txt = \"The rain in Spain\"\n",
    "x = re.findall(\"Portugal\", txt)\n",
    "print(x) "
   ]
  },
  {
   "cell_type": "markdown",
   "id": "351d1c3b",
   "metadata": {},
   "source": [
    "# The search() Function"
   ]
  },
  {
   "cell_type": "raw",
   "id": "33b31796",
   "metadata": {},
   "source": [
    "The search() function searches the string for a match, and returns a Match object if there is a match."
   ]
  },
  {
   "cell_type": "raw",
   "id": "0a0e278c",
   "metadata": {},
   "source": [
    "If there is more than one match, only the first occurrence of the match will be returned:"
   ]
  },
  {
   "cell_type": "code",
   "execution_count": 44,
   "id": "b90b2caf",
   "metadata": {},
   "outputs": [
    {
     "name": "stdout",
     "output_type": "stream",
     "text": [
      "The first white-space character is located in position: 3\n"
     ]
    }
   ],
   "source": [
    "# Search for the first white-space character in the string:\n",
    "\n",
    "import re\n",
    "\n",
    "txt = \"The rain in Spain\"\n",
    "x = re.search(\"\\s\", txt)\n",
    "\n",
    "print(\"The first white-space character is located in position:\", x.start()) "
   ]
  },
  {
   "cell_type": "raw",
   "id": "5152f855",
   "metadata": {},
   "source": [
    "If no matches are found, the value None is returned:"
   ]
  },
  {
   "cell_type": "code",
   "execution_count": 45,
   "id": "54d76d09",
   "metadata": {},
   "outputs": [
    {
     "name": "stdout",
     "output_type": "stream",
     "text": [
      "None\n"
     ]
    }
   ],
   "source": [
    "# Make a search that returns no match:\n",
    "\n",
    "import re\n",
    "\n",
    "txt = \"The rain in Spain\"\n",
    "x = re.search(\"Portugal\", txt)\n",
    "print(x) "
   ]
  },
  {
   "cell_type": "markdown",
   "id": "aac779c8",
   "metadata": {},
   "source": [
    "# The split() Function"
   ]
  },
  {
   "cell_type": "raw",
   "id": "babc3b9a",
   "metadata": {},
   "source": [
    "The split() function returns a list where the string has been split at each match:"
   ]
  },
  {
   "cell_type": "code",
   "execution_count": 46,
   "id": "3e59a864",
   "metadata": {},
   "outputs": [
    {
     "name": "stdout",
     "output_type": "stream",
     "text": [
      "['The', 'rain', 'in', 'Spain']\n"
     ]
    }
   ],
   "source": [
    "# Split at each white-space character:\n",
    "\n",
    "import re\n",
    "\n",
    "txt = \"The rain in Spain\"\n",
    "x = re.split(\"\\s\", txt)\n",
    "print(x) "
   ]
  },
  {
   "cell_type": "raw",
   "id": "ada896b0",
   "metadata": {},
   "source": [
    "You can control the number of occurrences by specifying the maxsplit parameter:"
   ]
  },
  {
   "cell_type": "code",
   "execution_count": 48,
   "id": "033c36a1",
   "metadata": {},
   "outputs": [
    {
     "name": "stdout",
     "output_type": "stream",
     "text": [
      "['The', 'rain in Spain']\n"
     ]
    }
   ],
   "source": [
    "# Split the string only at the first occurrence:\n",
    "\n",
    "import re\n",
    "\n",
    "txt = \"The rain in Spain\"\n",
    "x = re.split(\"\\s\", txt, 1)\n",
    "print(x) "
   ]
  },
  {
   "cell_type": "markdown",
   "id": "50e560d7",
   "metadata": {},
   "source": [
    "# The sub() Function"
   ]
  },
  {
   "cell_type": "raw",
   "id": "5ca4d2cc",
   "metadata": {},
   "source": [
    "The sub() function replaces the matches with the text of your choice:"
   ]
  },
  {
   "cell_type": "code",
   "execution_count": 49,
   "id": "f24b2b38",
   "metadata": {},
   "outputs": [
    {
     "name": "stdout",
     "output_type": "stream",
     "text": [
      "The9rain9in9Spain\n"
     ]
    }
   ],
   "source": [
    "# Replace every white-space character with the number 9:\n",
    "\n",
    "import re\n",
    "\n",
    "txt = \"The rain in Spain\"\n",
    "x = re.sub(\"\\s\", \"9\", txt)\n",
    "print(x) "
   ]
  },
  {
   "cell_type": "raw",
   "id": "d6a942d3",
   "metadata": {},
   "source": [
    "You can control the number of replacements by specifying the count parameter:"
   ]
  },
  {
   "cell_type": "code",
   "execution_count": 51,
   "id": "afce9dd3",
   "metadata": {},
   "outputs": [
    {
     "name": "stdout",
     "output_type": "stream",
     "text": [
      "The9rain9in Spain\n"
     ]
    }
   ],
   "source": [
    "# Replace the first 2 occurrences:\n",
    "\n",
    "import re\n",
    "\n",
    "txt = \"The rain in Spain\"\n",
    "x = re.sub(\"\\s\", \"9\", txt, 2)\n",
    "print(x)"
   ]
  },
  {
   "cell_type": "markdown",
   "id": "79dd6cfb",
   "metadata": {},
   "source": [
    "# Match Object"
   ]
  },
  {
   "cell_type": "raw",
   "id": "3e9b4a60",
   "metadata": {},
   "source": [
    "A Match Object is an object containing information about the search and the result."
   ]
  },
  {
   "cell_type": "raw",
   "id": "e46d97ac",
   "metadata": {},
   "source": [
    "Note: If there is no match, the value None will be returned, instead of the Match Object."
   ]
  },
  {
   "cell_type": "code",
   "execution_count": 52,
   "id": "f7ce5742",
   "metadata": {},
   "outputs": [
    {
     "name": "stdout",
     "output_type": "stream",
     "text": [
      "<re.Match object; span=(5, 7), match='ai'>\n"
     ]
    }
   ],
   "source": [
    "# Do a search that will return a Match Object:\n",
    "\n",
    "import re\n",
    "\n",
    "txt = \"The rain in Spain\"\n",
    "x = re.search(\"ai\", txt)\n",
    "print(x) #this will print an object "
   ]
  },
  {
   "cell_type": "raw",
   "id": "5fda2f66",
   "metadata": {},
   "source": [
    "The Match object has properties and methods used to retrieve information about the search, and the result:\n",
    "\n",
    ".span() returns a tuple containing the start-, and end positions of the match.\n",
    ".string returns the string passed into the function\n",
    ".group() returns the part of the string where there was a match"
   ]
  },
  {
   "cell_type": "code",
   "execution_count": 53,
   "id": "fe190ad1",
   "metadata": {},
   "outputs": [
    {
     "name": "stdout",
     "output_type": "stream",
     "text": [
      "(12, 17)\n"
     ]
    }
   ],
   "source": [
    "# Print the position (start- and end-position) of the first match occurrence.\n",
    "\n",
    "# The regular expression looks for any words that starts with an upper case \"S\":\n",
    "    \n",
    "import re\n",
    "\n",
    "txt = \"The rain in Spain\"\n",
    "x = re.search(r\"\\bS\\w+\", txt)\n",
    "print(x.span())"
   ]
  },
  {
   "cell_type": "code",
   "execution_count": 54,
   "id": "60efe3fa",
   "metadata": {},
   "outputs": [
    {
     "name": "stdout",
     "output_type": "stream",
     "text": [
      "The rain in Spain\n"
     ]
    }
   ],
   "source": [
    "# Print the string passed into the function:\n",
    "\n",
    "import re\n",
    "\n",
    "txt = \"The rain in Spain\"\n",
    "x = re.search(r\"\\bS\\w+\", txt)\n",
    "print(x.string) "
   ]
  },
  {
   "cell_type": "raw",
   "id": "e2ab2855",
   "metadata": {},
   "source": [
    "Note: If there is no match, the value None will be returned, instead of the Match Object."
   ]
  },
  {
   "cell_type": "code",
   "execution_count": 55,
   "id": "b2cef20b",
   "metadata": {},
   "outputs": [
    {
     "name": "stdout",
     "output_type": "stream",
     "text": [
      "Spain\n"
     ]
    }
   ],
   "source": [
    "# Print the part of the string where there was a match.\n",
    "\n",
    "# The regular expression looks for any words that starts with an upper case \"S\":\n",
    "\n",
    "import re\n",
    "\n",
    "txt = \"The rain in Spain\"\n",
    "x = re.search(r\"\\bS\\w+\", txt)\n",
    "print(x.group()) "
   ]
  }
 ],
 "metadata": {
  "kernelspec": {
   "display_name": "Python 3",
   "language": "python",
   "name": "python3"
  },
  "language_info": {
   "codemirror_mode": {
    "name": "ipython",
    "version": 3
   },
   "file_extension": ".py",
   "mimetype": "text/x-python",
   "name": "python",
   "nbconvert_exporter": "python",
   "pygments_lexer": "ipython3",
   "version": "3.8.8"
  }
 },
 "nbformat": 4,
 "nbformat_minor": 5
}
