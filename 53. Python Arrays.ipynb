{
 "cells": [
  {
   "cell_type": "markdown",
   "id": "df3e420e",
   "metadata": {},
   "source": [
    "# Python Arrays"
   ]
  },
  {
   "cell_type": "raw",
   "id": "bdbd1bb9",
   "metadata": {},
   "source": [
    "Note: Python does not have built-in support for Arrays, but Python Lists can be used instead."
   ]
  },
  {
   "cell_type": "markdown",
   "id": "938b6892",
   "metadata": {},
   "source": [
    "# Arrays"
   ]
  },
  {
   "cell_type": "raw",
   "id": "dce30fac",
   "metadata": {},
   "source": [
    "Note: This page shows you how to use LISTS as ARRAYS, however, to work with arrays in Python you will have to import a library, like the NumPy library."
   ]
  },
  {
   "cell_type": "raw",
   "id": "bbe7fa26",
   "metadata": {},
   "source": [
    "Arrays are used to store multiple values in one single variable:"
   ]
  },
  {
   "cell_type": "code",
   "execution_count": 1,
   "id": "43cec51c",
   "metadata": {},
   "outputs": [
    {
     "name": "stdout",
     "output_type": "stream",
     "text": [
      "['Ford', 'Volvo', 'BMW']\n"
     ]
    }
   ],
   "source": [
    "# Create an array containing car names:\n",
    "\n",
    "cars = [\"Ford\", \"Volvo\", \"BMW\"] \n",
    "print(cars)"
   ]
  },
  {
   "cell_type": "markdown",
   "id": "f80f9751",
   "metadata": {},
   "source": [
    "# What is an Array?"
   ]
  },
  {
   "cell_type": "raw",
   "id": "5686d01a",
   "metadata": {},
   "source": [
    "An array is a special variable, which can hold more than one value at a time."
   ]
  },
  {
   "cell_type": "raw",
   "id": "8111b377",
   "metadata": {},
   "source": [
    "If you have a list of items (a list of car names, for example), storing the cars in single variables could look like this:"
   ]
  },
  {
   "cell_type": "raw",
   "id": "864b8400",
   "metadata": {},
   "source": [
    "car1 = \"Ford\"\n",
    "car2 = \"Volvo\"\n",
    "car3 = \"BMW\""
   ]
  },
  {
   "cell_type": "raw",
   "id": "d4e6f1be",
   "metadata": {},
   "source": [
    "However, what if you want to loop through the cars and find a specific one? And what if you had not 3 cars, but 300?"
   ]
  },
  {
   "cell_type": "raw",
   "id": "89f4efac",
   "metadata": {},
   "source": [
    "The solution is an array!"
   ]
  },
  {
   "cell_type": "raw",
   "id": "cf881ae5",
   "metadata": {},
   "source": [
    "An array can hold many values under a single name, and you can access the values by referring to an index number."
   ]
  },
  {
   "cell_type": "markdown",
   "id": "85b869d0",
   "metadata": {},
   "source": [
    "# Access the Elements of an Array"
   ]
  },
  {
   "cell_type": "raw",
   "id": "25c57388",
   "metadata": {},
   "source": [
    "You refer to an array element by referring to the index number."
   ]
  },
  {
   "cell_type": "raw",
   "id": "dbfc30c3",
   "metadata": {},
   "source": [
    "Get the value of the first array item:"
   ]
  },
  {
   "cell_type": "code",
   "execution_count": 2,
   "id": "bf8538c8",
   "metadata": {},
   "outputs": [
    {
     "name": "stdout",
     "output_type": "stream",
     "text": [
      "Ford\n"
     ]
    }
   ],
   "source": [
    "cars = [\"Ford\", \"Volvo\", \"BMW\"]\n",
    "x = cars[0]\n",
    "print(x)"
   ]
  },
  {
   "cell_type": "raw",
   "id": "75431b40",
   "metadata": {},
   "source": [
    "Modify the value of the first array item:"
   ]
  },
  {
   "cell_type": "code",
   "execution_count": 3,
   "id": "198ef4e7",
   "metadata": {},
   "outputs": [
    {
     "name": "stdout",
     "output_type": "stream",
     "text": [
      "['Toyota', 'Volvo', 'BMW']\n"
     ]
    }
   ],
   "source": [
    "cars = [\"Ford\", \"Volvo\", \"BMW\"]\n",
    "cars[0] = \"Toyota\" \n",
    "print(cars)"
   ]
  },
  {
   "cell_type": "markdown",
   "id": "7a1f7ea9",
   "metadata": {},
   "source": [
    "# The Length of an Array"
   ]
  },
  {
   "cell_type": "raw",
   "id": "62cb3ab8",
   "metadata": {},
   "source": [
    "Use the len() method to return the length of an array (the number of elements in an array)."
   ]
  },
  {
   "cell_type": "raw",
   "id": "6408758c",
   "metadata": {},
   "source": [
    "Return the number of elements in the cars array:"
   ]
  },
  {
   "cell_type": "code",
   "execution_count": 4,
   "id": "e5afca71",
   "metadata": {},
   "outputs": [
    {
     "name": "stdout",
     "output_type": "stream",
     "text": [
      "3\n"
     ]
    }
   ],
   "source": [
    "cars = [\"Ford\", \"Volvo\", \"BMW\"]\n",
    "x = len(cars)\n",
    "print(x)"
   ]
  },
  {
   "cell_type": "raw",
   "id": "83fad5db",
   "metadata": {},
   "source": [
    "Note: The length of an array is always one more than the highest array index."
   ]
  },
  {
   "cell_type": "markdown",
   "id": "dbb7e6cb",
   "metadata": {},
   "source": [
    "# Looping Array Elements"
   ]
  },
  {
   "cell_type": "raw",
   "id": "e91d2726",
   "metadata": {},
   "source": [
    "You can use the for in loop to loop through all the elements of an array."
   ]
  },
  {
   "cell_type": "code",
   "execution_count": 5,
   "id": "fa2324e2",
   "metadata": {},
   "outputs": [
    {
     "name": "stdout",
     "output_type": "stream",
     "text": [
      "Ford\n",
      "Volvo\n",
      "BMW\n"
     ]
    }
   ],
   "source": [
    "# Print each item in the cars array:\n",
    "\n",
    "for x in cars:\n",
    "    print(x)"
   ]
  },
  {
   "cell_type": "markdown",
   "id": "40f86049",
   "metadata": {},
   "source": [
    "# Adding Array Elements"
   ]
  },
  {
   "cell_type": "raw",
   "id": "421dd8a9",
   "metadata": {},
   "source": [
    "You can use the append() method to add an element to an array."
   ]
  },
  {
   "cell_type": "code",
   "execution_count": 6,
   "id": "272028ae",
   "metadata": {},
   "outputs": [
    {
     "name": "stdout",
     "output_type": "stream",
     "text": [
      "['Ford', 'Volvo', 'BMW', 'Honda']\n"
     ]
    }
   ],
   "source": [
    "# Add one more element to the cars array:\n",
    "\n",
    "cars = [\"Ford\", \"Volvo\", \"BMW\"]\n",
    "cars.append(\"Honda\") \n",
    "print(cars)"
   ]
  },
  {
   "cell_type": "markdown",
   "id": "b71a23f5",
   "metadata": {},
   "source": [
    "# Removing Array Elements"
   ]
  },
  {
   "cell_type": "raw",
   "id": "8e4e7a43",
   "metadata": {},
   "source": [
    "You can use the pop() method to remove an element from the array."
   ]
  },
  {
   "cell_type": "code",
   "execution_count": 7,
   "id": "f64dff6f",
   "metadata": {},
   "outputs": [
    {
     "name": "stdout",
     "output_type": "stream",
     "text": [
      "['Ford', 'BMW']\n"
     ]
    }
   ],
   "source": [
    "# Delete the second element of the cars array:\n",
    "\n",
    "cars = [\"Ford\", \"Volvo\", \"BMW\"]\n",
    "cars.pop(1)\n",
    "print(cars)"
   ]
  },
  {
   "cell_type": "raw",
   "id": "77717a2a",
   "metadata": {},
   "source": [
    "You can also use the remove() method to remove an element from the array."
   ]
  },
  {
   "cell_type": "code",
   "execution_count": 8,
   "id": "d141b7a9",
   "metadata": {},
   "outputs": [
    {
     "name": "stdout",
     "output_type": "stream",
     "text": [
      "['Ford', 'BMW']\n"
     ]
    }
   ],
   "source": [
    "# Delete the element that has the value \"Volvo\":\n",
    "\n",
    "cars = [\"Ford\", \"Volvo\", \"BMW\"]\n",
    "cars.remove('Volvo')\n",
    "print(cars)"
   ]
  },
  {
   "cell_type": "raw",
   "id": "17a50301",
   "metadata": {},
   "source": [
    "Note: The list's remove() method only removes the first occurrence of the specified value."
   ]
  },
  {
   "cell_type": "markdown",
   "id": "66d6edbc",
   "metadata": {},
   "source": [
    "# Array Methods"
   ]
  },
  {
   "cell_type": "raw",
   "id": "90dd5c53",
   "metadata": {},
   "source": [
    "Python has a set of built-in methods that you can use on lists/arrays."
   ]
  },
  {
   "cell_type": "raw",
   "id": "7be99acc",
   "metadata": {},
   "source": [
    "Method \tDescription\n",
    "append()\tAdds an element at the end of the list\n",
    "clear()\tRemoves all the elements from the list\n",
    "copy()\tReturns a copy of the list\n",
    "count()\tReturns the number of elements with the specified value\n",
    "extend()\tAdd the elements of a list (or any iterable), to the end of the current list\n",
    "index()\tReturns the index of the first element with the specified value\n",
    "insert()\tAdds an element at the specified position\n",
    "pop()\tRemoves the element at the specified position\n",
    "remove()\tRemoves the first item with the specified value\n",
    "reverse()\tReverses the order of the list\n",
    "sort()\tSorts the list"
   ]
  }
 ],
 "metadata": {
  "kernelspec": {
   "display_name": "Python 3",
   "language": "python",
   "name": "python3"
  },
  "language_info": {
   "codemirror_mode": {
    "name": "ipython",
    "version": 3
   },
   "file_extension": ".py",
   "mimetype": "text/x-python",
   "name": "python",
   "nbconvert_exporter": "python",
   "pygments_lexer": "ipython3",
   "version": "3.8.8"
  }
 },
 "nbformat": 4,
 "nbformat_minor": 5
}
