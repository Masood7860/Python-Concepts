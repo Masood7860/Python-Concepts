{
 "cells": [
  {
   "cell_type": "markdown",
   "id": "7b7066c7",
   "metadata": {},
   "source": [
    "# Accessing Items"
   ]
  },
  {
   "cell_type": "raw",
   "id": "3dfd003a",
   "metadata": {},
   "source": [
    "You can access the items of a dictionary by referring to its key name, inside square brackets:"
   ]
  },
  {
   "cell_type": "code",
   "execution_count": 1,
   "id": "a0be85d5",
   "metadata": {},
   "outputs": [
    {
     "name": "stdout",
     "output_type": "stream",
     "text": [
      "Mustang\n"
     ]
    }
   ],
   "source": [
    "# Example\n",
    "# Get the value of the \"model\" key:\n",
    "\n",
    "thisdict = {\n",
    "  \"brand\": \"Ford\",\n",
    "  \"model\": \"Mustang\",\n",
    "  \"year\": 1964\n",
    "}\n",
    "x = thisdict[\"model\"]\n",
    "print(x)"
   ]
  },
  {
   "cell_type": "raw",
   "id": "f97ef0cd",
   "metadata": {},
   "source": [
    "There is also a method called get() that will give you the same result:"
   ]
  },
  {
   "cell_type": "code",
   "execution_count": 2,
   "id": "02596884",
   "metadata": {},
   "outputs": [
    {
     "name": "stdout",
     "output_type": "stream",
     "text": [
      "Mustang\n"
     ]
    }
   ],
   "source": [
    "# Example\n",
    "# Get the value of the \"model\" key:\n",
    "\n",
    "x = thisdict.get(\"model\")\n",
    "print(x)"
   ]
  },
  {
   "cell_type": "markdown",
   "id": "4527534e",
   "metadata": {},
   "source": [
    "# Get Keys"
   ]
  },
  {
   "cell_type": "raw",
   "id": "fdc89b5c",
   "metadata": {},
   "source": [
    "The keys() method will return a list of all the keys in the dictionary."
   ]
  },
  {
   "cell_type": "code",
   "execution_count": 3,
   "id": "3095edc9",
   "metadata": {},
   "outputs": [
    {
     "name": "stdout",
     "output_type": "stream",
     "text": [
      "dict_keys(['brand', 'model', 'year'])\n"
     ]
    }
   ],
   "source": [
    "# Example\n",
    "# Get a list of the keys:\n",
    "\n",
    "x = thisdict.keys()\n",
    "print(x)"
   ]
  },
  {
   "cell_type": "raw",
   "id": "a7fe1cfc",
   "metadata": {},
   "source": [
    "The list of the keys is a view of the dictionary, meaning that any changes done to the dictionary will be reflected in the keys list."
   ]
  },
  {
   "cell_type": "code",
   "execution_count": 4,
   "id": "b9dba499",
   "metadata": {},
   "outputs": [
    {
     "name": "stdout",
     "output_type": "stream",
     "text": [
      "dict_keys(['brand', 'model', 'year'])\n",
      "dict_keys(['brand', 'model', 'year', 'color'])\n"
     ]
    }
   ],
   "source": [
    "# Example\n",
    "# Add a new item to the original dictionary, and see that the keys list gets updated as well:\n",
    "\n",
    "car = {\n",
    "\"brand\": \"Ford\",\n",
    "\"model\": \"Mustang\",\n",
    "\"year\": 1964\n",
    "}\n",
    "\n",
    "x = car.keys()\n",
    "\n",
    "print(x) #before the change\n",
    "\n",
    "car[\"color\"] = \"white\"\n",
    "\n",
    "print(x) #after the change"
   ]
  },
  {
   "cell_type": "markdown",
   "id": "99e0fb58",
   "metadata": {},
   "source": [
    "# Get Values"
   ]
  },
  {
   "cell_type": "raw",
   "id": "a7604ec3",
   "metadata": {},
   "source": [
    "The values() method will return a list of all the values in the dictionary."
   ]
  },
  {
   "cell_type": "code",
   "execution_count": 5,
   "id": "e70f5fa5",
   "metadata": {},
   "outputs": [
    {
     "name": "stdout",
     "output_type": "stream",
     "text": [
      "dict_values(['Ford', 'Mustang', 1964])\n"
     ]
    }
   ],
   "source": [
    "# Example\n",
    "# Get a list of the values:\n",
    "\n",
    "x = thisdict.values()\n",
    "print(x)"
   ]
  },
  {
   "cell_type": "raw",
   "id": "b5e062b4",
   "metadata": {},
   "source": [
    "The list of the values is a view of the dictionary, meaning that any changes done to the dictionary will be reflected in the values list."
   ]
  },
  {
   "cell_type": "code",
   "execution_count": 6,
   "id": "472008ed",
   "metadata": {},
   "outputs": [
    {
     "name": "stdout",
     "output_type": "stream",
     "text": [
      "dict_values(['Ford', 'Mustang', 1964])\n",
      "dict_values(['Ford', 'Mustang', 2020])\n"
     ]
    }
   ],
   "source": [
    "# Example\n",
    "# Make a change in the original dictionary, and see that the values list gets updated as well:\n",
    "\n",
    "car = {\n",
    "\"brand\": \"Ford\",\n",
    "\"model\": \"Mustang\",\n",
    "\"year\": 1964\n",
    "}\n",
    "\n",
    "x = car.values()\n",
    "\n",
    "print(x) #before the change\n",
    "\n",
    "car[\"year\"] = 2020\n",
    "\n",
    "print(x) #after the change"
   ]
  },
  {
   "cell_type": "code",
   "execution_count": 7,
   "id": "dd694a6f",
   "metadata": {},
   "outputs": [
    {
     "name": "stdout",
     "output_type": "stream",
     "text": [
      "dict_values(['Ford', 'Mustang', 1964])\n",
      "dict_values(['Ford', 'Mustang', 1964, 'red'])\n"
     ]
    }
   ],
   "source": [
    "# Example\n",
    "# Add a new item to the original dictionary, and see that the values list gets updated as well:\n",
    "\n",
    "car = {\n",
    "\"brand\": \"Ford\",\n",
    "\"model\": \"Mustang\",\n",
    "\"year\": 1964\n",
    "}\n",
    "\n",
    "x = car.values()\n",
    "\n",
    "print(x) #before the change\n",
    "\n",
    "car[\"color\"] = \"red\"\n",
    "\n",
    "print(x) #after the change"
   ]
  },
  {
   "cell_type": "markdown",
   "id": "f4c39759",
   "metadata": {},
   "source": [
    "# Get Items"
   ]
  },
  {
   "cell_type": "raw",
   "id": "e6fd93e1",
   "metadata": {},
   "source": [
    "The items() method will return each item in a dictionary, as tuples in a list."
   ]
  },
  {
   "cell_type": "code",
   "execution_count": 8,
   "id": "25cee396",
   "metadata": {},
   "outputs": [
    {
     "name": "stdout",
     "output_type": "stream",
     "text": [
      "dict_items([('brand', 'Ford'), ('model', 'Mustang'), ('year', 1964)])\n"
     ]
    }
   ],
   "source": [
    "# Example\n",
    "# Get a list of the key:value pairs\n",
    "\n",
    "x = thisdict.items()\n",
    "\n",
    "print(x)"
   ]
  },
  {
   "cell_type": "raw",
   "id": "b8afeab5",
   "metadata": {},
   "source": [
    "The returned list is a view of the items of the dictionary, meaning that any changes done to the dictionary will be reflected in the items list."
   ]
  },
  {
   "cell_type": "code",
   "execution_count": 9,
   "id": "52e6a8f5",
   "metadata": {},
   "outputs": [
    {
     "name": "stdout",
     "output_type": "stream",
     "text": [
      "dict_items([('brand', 'Ford'), ('model', 'Mustang'), ('year', 1964)])\n",
      "dict_items([('brand', 'Ford'), ('model', 'Mustang'), ('year', 2020)])\n"
     ]
    }
   ],
   "source": [
    "# Example\n",
    "# Make a change in the original dictionary, and see that the items list gets updated as well:\n",
    "\n",
    "car = {\n",
    "\"brand\": \"Ford\",\n",
    "\"model\": \"Mustang\",\n",
    "\"year\": 1964\n",
    "}\n",
    "\n",
    "x = car.items()\n",
    "\n",
    "print(x) #before the change\n",
    "\n",
    "car[\"year\"] = 2020\n",
    "\n",
    "print(x) #after the change"
   ]
  },
  {
   "cell_type": "code",
   "execution_count": 10,
   "id": "7085b0dc",
   "metadata": {},
   "outputs": [
    {
     "name": "stdout",
     "output_type": "stream",
     "text": [
      "dict_items([('brand', 'Ford'), ('model', 'Mustang'), ('year', 1964)])\n",
      "dict_items([('brand', 'Ford'), ('model', 'Mustang'), ('year', 1964), ('color', 'red')])\n"
     ]
    }
   ],
   "source": [
    "# Example\n",
    "# Add a new item to the original dictionary, and see that the items list gets updated as well:\n",
    "\n",
    "car = {\n",
    "\"brand\": \"Ford\",\n",
    "\"model\": \"Mustang\",\n",
    "\"year\": 1964\n",
    "}\n",
    "\n",
    "x = car.items()\n",
    "\n",
    "print(x) #before the change\n",
    "\n",
    "car[\"color\"] = \"red\"\n",
    "\n",
    "print(x) #after the change"
   ]
  },
  {
   "cell_type": "markdown",
   "id": "186e94ca",
   "metadata": {},
   "source": [
    "# Check if Key Exists"
   ]
  },
  {
   "cell_type": "raw",
   "id": "cd8bc6d0",
   "metadata": {},
   "source": [
    "To determine if a specified key is present in a dictionary use the in keyword:"
   ]
  },
  {
   "cell_type": "code",
   "execution_count": 11,
   "id": "6681abfd",
   "metadata": {},
   "outputs": [
    {
     "name": "stdout",
     "output_type": "stream",
     "text": [
      "Yes, 'model' is one of the keys in the thisdict dictionary\n"
     ]
    }
   ],
   "source": [
    "# Example\n",
    "# Check if \"model\" is present in the dictionary:\n",
    "\n",
    "thisdict = {\n",
    "  \"brand\": \"Ford\",\n",
    "  \"model\": \"Mustang\",\n",
    "  \"year\": 1964\n",
    "}\n",
    "if \"model\" in thisdict:\n",
    "  print(\"Yes, 'model' is one of the keys in the thisdict dictionary\")\n"
   ]
  }
 ],
 "metadata": {
  "kernelspec": {
   "display_name": "Python 3",
   "language": "python",
   "name": "python3"
  },
  "language_info": {
   "codemirror_mode": {
    "name": "ipython",
    "version": 3
   },
   "file_extension": ".py",
   "mimetype": "text/x-python",
   "name": "python",
   "nbconvert_exporter": "python",
   "pygments_lexer": "ipython3",
   "version": "3.8.8"
  }
 },
 "nbformat": 4,
 "nbformat_minor": 5
}
